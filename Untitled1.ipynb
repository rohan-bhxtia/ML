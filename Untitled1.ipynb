{
 "cells": [
  {
   "cell_type": "markdown",
   "id": "37ce8368-5629-45a8-b14b-253bc284d74d",
   "metadata": {},
   "source": [
    "# _**CREATE**_"
   ]
  },
  {
   "cell_type": "code",
   "execution_count": 1,
   "id": "e9a16cb1-e29a-458b-b5a1-e720d42107b1",
   "metadata": {},
   "outputs": [],
   "source": [
    "import numpy as np"
   ]
  },
  {
   "cell_type": "code",
   "execution_count": 2,
   "id": "319ea6e2-c9f4-4555-b89e-dcc51f09e7b9",
   "metadata": {},
   "outputs": [],
   "source": [
    "data = np.random.rand(2,3,4,)"
   ]
  },
  {
   "cell_type": "code",
   "execution_count": 3,
   "id": "92b25ef8-ae96-4ae9-8975-8197d526f327",
   "metadata": {},
   "outputs": [
    {
     "data": {
      "text/plain": [
       "array([[[0.97614264, 0.5648484 , 0.34276883, 0.70150241],\n",
       "        [0.89155619, 0.6901052 , 0.24543202, 0.28249899],\n",
       "        [0.92937555, 0.19798245, 0.76722225, 0.26581119]],\n",
       "\n",
       "       [[0.44408413, 0.18285575, 0.97363949, 0.15979715],\n",
       "        [0.64536203, 0.59811212, 0.76515751, 0.92050753],\n",
       "        [0.66158014, 0.57991911, 0.2609585 , 0.8027323 ]]])"
      ]
     },
     "execution_count": 3,
     "metadata": {},
     "output_type": "execute_result"
    }
   ],
   "source": [
    "data\n"
   ]
  },
  {
   "cell_type": "code",
   "execution_count": 4,
   "id": "0c923f40-abaa-45b5-903a-f21034cd47f2",
   "metadata": {},
   "outputs": [],
   "source": [
    "zeroes = np.zeros((2,3,4))"
   ]
  },
  {
   "cell_type": "code",
   "execution_count": 5,
   "id": "1ba8fc17-f415-4ebf-ac5c-b9f3ac60cab8",
   "metadata": {},
   "outputs": [
    {
     "data": {
      "text/plain": [
       "array([[[0., 0., 0., 0.],\n",
       "        [0., 0., 0., 0.],\n",
       "        [0., 0., 0., 0.]],\n",
       "\n",
       "       [[0., 0., 0., 0.],\n",
       "        [0., 0., 0., 0.],\n",
       "        [0., 0., 0., 0.]]])"
      ]
     },
     "execution_count": 5,
     "metadata": {},
     "output_type": "execute_result"
    }
   ],
   "source": [
    "zeroes\n"
   ]
  },
  {
   "cell_type": "code",
   "execution_count": 6,
   "id": "62c7d259-bb9b-4ed9-bbf1-fd3709050b7c",
   "metadata": {},
   "outputs": [],
   "source": [
    "full = np.full ((2,3,4),7)"
   ]
  },
  {
   "cell_type": "markdown",
   "id": "db198656-c2e4-4b7e-94e4-05fc9fb15683",
   "metadata": {},
   "source": [
    "full"
   ]
  },
  {
   "cell_type": "code",
   "execution_count": 7,
   "id": "e76a61a6-fb40-4b05-8005-2fa9fade90ce",
   "metadata": {},
   "outputs": [],
   "source": [
    "ones = np.ones((2,3,4))"
   ]
  },
  {
   "cell_type": "code",
   "execution_count": 8,
   "id": "0e7a9446-9cd6-4339-a89d-2f89b6ac8f5f",
   "metadata": {},
   "outputs": [
    {
     "data": {
      "text/plain": [
       "array([[[1., 1., 1., 1.],\n",
       "        [1., 1., 1., 1.],\n",
       "        [1., 1., 1., 1.]],\n",
       "\n",
       "       [[1., 1., 1., 1.],\n",
       "        [1., 1., 1., 1.],\n",
       "        [1., 1., 1., 1.]]])"
      ]
     },
     "execution_count": 8,
     "metadata": {},
     "output_type": "execute_result"
    }
   ],
   "source": [
    "ones"
   ]
  },
  {
   "cell_type": "markdown",
   "id": "7f7a36ca-7ddf-4236-8398-12653d6aaf75",
   "metadata": {},
   "source": [
    "### _creating array_ "
   ]
  },
  {
   "cell_type": "code",
   "execution_count": 9,
   "id": "96ebd03a-f957-41e0-9fe5-aef11192c18f",
   "metadata": {},
   "outputs": [],
   "source": [
    "array = np.array ([[1,2,3,4],[5,6,7,8],[9,10,11,12]])"
   ]
  },
  {
   "cell_type": "code",
   "execution_count": 10,
   "id": "b4401284-4cc8-450c-b76b-cff1c0dfddab",
   "metadata": {},
   "outputs": [
    {
     "data": {
      "text/plain": [
       "array([[ 1,  2,  3,  4],\n",
       "       [ 5,  6,  7,  8],\n",
       "       [ 9, 10, 11, 12]])"
      ]
     },
     "execution_count": 10,
     "metadata": {},
     "output_type": "execute_result"
    }
   ],
   "source": [
    "array"
   ]
  },
  {
   "cell_type": "markdown",
   "id": "697e8f27-fd43-48c8-b7cc-0d9fb9856cfe",
   "metadata": {},
   "source": [
    "# _**READ**_ "
   ]
  },
  {
   "cell_type": "code",
   "execution_count": 11,
   "id": "2c8752ed-3a40-4fba-9c83-1000a4aaf4c7",
   "metadata": {},
   "outputs": [],
   "source": [
    "#ATTRIBUTES "
   ]
  },
  {
   "cell_type": "code",
   "execution_count": 12,
   "id": "62a729d8-b2d3-4342-8d97-c62d7b8f34c4",
   "metadata": {},
   "outputs": [],
   "source": [
    "shape = data.shape"
   ]
  },
  {
   "cell_type": "code",
   "execution_count": 13,
   "id": "6ed9b5a3-876d-40fd-a2a4-01e2f152fa43",
   "metadata": {},
   "outputs": [],
   "source": [
    "size = data.size"
   ]
  },
  {
   "cell_type": "code",
   "execution_count": 14,
   "id": "b98ea54c-0d31-4e03-a91a-ee8761880c33",
   "metadata": {},
   "outputs": [],
   "source": [
    "type = data.dtype"
   ]
  },
  {
   "cell_type": "code",
   "execution_count": 15,
   "id": "9f21531f-d97e-48ce-9c83-ad15a4f85c33",
   "metadata": {},
   "outputs": [
    {
     "data": {
      "text/plain": [
       "(2, 3, 4)"
      ]
     },
     "execution_count": 15,
     "metadata": {},
     "output_type": "execute_result"
    }
   ],
   "source": [
    "shape "
   ]
  },
  {
   "cell_type": "code",
   "execution_count": 16,
   "id": "2e0f32e1-559d-46ef-8130-a263117d55b2",
   "metadata": {},
   "outputs": [
    {
     "data": {
      "text/plain": [
       "24"
      ]
     },
     "execution_count": 16,
     "metadata": {},
     "output_type": "execute_result"
    }
   ],
   "source": [
    "size"
   ]
  },
  {
   "cell_type": "code",
   "execution_count": 17,
   "id": "e22d8ece-5e90-4e9c-bbaf-e6f4152cf247",
   "metadata": {},
   "outputs": [
    {
     "data": {
      "text/plain": [
       "dtype('float64')"
      ]
     },
     "execution_count": 17,
     "metadata": {},
     "output_type": "execute_result"
    }
   ],
   "source": [
    "type "
   ]
  },
  {
   "cell_type": "code",
   "execution_count": 18,
   "id": "bd4bb04e-6f25-46a5-81fc-2ed945b7ac76",
   "metadata": {},
   "outputs": [],
   "source": [
    "#SLICING "
   ]
  },
  {
   "cell_type": "code",
   "execution_count": 20,
   "id": "2125d770-8d83-43a5-bd03-d7e70b2b5bec",
   "metadata": {},
   "outputs": [],
   "source": [
    "arr = data[0]"
   ]
  },
  {
   "cell_type": "code",
   "execution_count": 21,
   "id": "a797f198-0492-4e89-a9b8-1cc30eb2c046",
   "metadata": {},
   "outputs": [
    {
     "data": {
      "text/plain": [
       "array([[0.97614264, 0.5648484 , 0.34276883, 0.70150241],\n",
       "       [0.89155619, 0.6901052 , 0.24543202, 0.28249899],\n",
       "       [0.92937555, 0.19798245, 0.76722225, 0.26581119]])"
      ]
     },
     "execution_count": 21,
     "metadata": {},
     "output_type": "execute_result"
    }
   ],
   "source": [
    "arr"
   ]
  },
  {
   "cell_type": "code",
   "execution_count": 22,
   "id": "e1d7b37d-b14a-4fb4-b7df-92e16a27695b",
   "metadata": {},
   "outputs": [],
   "source": [
    "arr = data[1]"
   ]
  },
  {
   "cell_type": "code",
   "execution_count": 23,
   "id": "efa50454-9cb3-4e3f-97f0-d036f451bef8",
   "metadata": {},
   "outputs": [
    {
     "data": {
      "text/plain": [
       "array([[0.44408413, 0.18285575, 0.97363949, 0.15979715],\n",
       "       [0.64536203, 0.59811212, 0.76515751, 0.92050753],\n",
       "       [0.66158014, 0.57991911, 0.2609585 , 0.8027323 ]])"
      ]
     },
     "execution_count": 23,
     "metadata": {},
     "output_type": "execute_result"
    }
   ],
   "source": [
    "arr"
   ]
  },
  {
   "cell_type": "code",
   "execution_count": 24,
   "id": "1e4b63c4-83fe-42c2-bd1d-5dc087d82bfd",
   "metadata": {},
   "outputs": [],
   "source": [
    "arr = data[0:2]"
   ]
  },
  {
   "cell_type": "code",
   "execution_count": 25,
   "id": "9721dc60-fe1b-425c-ba58-c1653239c84c",
   "metadata": {},
   "outputs": [
    {
     "data": {
      "text/plain": [
       "array([[[0.97614264, 0.5648484 , 0.34276883, 0.70150241],\n",
       "        [0.89155619, 0.6901052 , 0.24543202, 0.28249899],\n",
       "        [0.92937555, 0.19798245, 0.76722225, 0.26581119]],\n",
       "\n",
       "       [[0.44408413, 0.18285575, 0.97363949, 0.15979715],\n",
       "        [0.64536203, 0.59811212, 0.76515751, 0.92050753],\n",
       "        [0.66158014, 0.57991911, 0.2609585 , 0.8027323 ]]])"
      ]
     },
     "execution_count": 25,
     "metadata": {},
     "output_type": "execute_result"
    }
   ],
   "source": [
    "arr"
   ]
  },
  {
   "cell_type": "code",
   "execution_count": 26,
   "id": "8a9b582b-0215-4a6a-8a20-80f8fd96fbae",
   "metadata": {},
   "outputs": [],
   "source": [
    "slicer = data[0:2]"
   ]
  },
  {
   "cell_type": "code",
   "execution_count": 27,
   "id": "b932dcea-0809-44eb-8629-6b89cca94cb1",
   "metadata": {},
   "outputs": [
    {
     "data": {
      "text/plain": [
       "array([[[0.97614264, 0.5648484 , 0.34276883, 0.70150241],\n",
       "        [0.89155619, 0.6901052 , 0.24543202, 0.28249899],\n",
       "        [0.92937555, 0.19798245, 0.76722225, 0.26581119]],\n",
       "\n",
       "       [[0.44408413, 0.18285575, 0.97363949, 0.15979715],\n",
       "        [0.64536203, 0.59811212, 0.76515751, 0.92050753],\n",
       "        [0.66158014, 0.57991911, 0.2609585 , 0.8027323 ]]])"
      ]
     },
     "execution_count": 27,
     "metadata": {},
     "output_type": "execute_result"
    }
   ],
   "source": [
    "slicer"
   ]
  },
  {
   "cell_type": "code",
   "execution_count": 28,
   "id": "0ba37c0b-0bd0-411a-8511-e0d0080392fe",
   "metadata": {},
   "outputs": [],
   "source": [
    "reverse = data[-1]"
   ]
  },
  {
   "cell_type": "code",
   "execution_count": 29,
   "id": "718d3315-dea4-4b58-9c27-f567ab87dd1f",
   "metadata": {},
   "outputs": [
    {
     "data": {
      "text/plain": [
       "array([[0.44408413, 0.18285575, 0.97363949, 0.15979715],\n",
       "       [0.64536203, 0.59811212, 0.76515751, 0.92050753],\n",
       "       [0.66158014, 0.57991911, 0.2609585 , 0.8027323 ]])"
      ]
     },
     "execution_count": 29,
     "metadata": {},
     "output_type": "execute_result"
    }
   ],
   "source": [
    "reverse"
   ]
  },
  {
   "cell_type": "code",
   "execution_count": 30,
   "id": "e3b6df03-6b8a-443d-8108-05170d45bfd1",
   "metadata": {},
   "outputs": [],
   "source": [
    " single_value = data[1][2][2]"
   ]
  },
  {
   "cell_type": "code",
   "execution_count": 31,
   "id": "dcb449d8-1fa6-4d9b-85e5-4f71adad3600",
   "metadata": {},
   "outputs": [
    {
     "data": {
      "text/plain": [
       "0.26095850301213797"
      ]
     },
     "execution_count": 31,
     "metadata": {},
     "output_type": "execute_result"
    }
   ],
   "source": [
    "single_value"
   ]
  },
  {
   "cell_type": "markdown",
   "id": "5097afb6-9475-4f93-97a5-06d2c30615ac",
   "metadata": {},
   "source": [
    "# _**UPDATE**_"
   ]
  },
  {
   "cell_type": "code",
   "execution_count": 32,
   "id": "0db3b0ec-4da1-4beb-8475-db38422e263c",
   "metadata": {},
   "outputs": [],
   "source": [
    "list1 = np.random.rand(10)"
   ]
  },
  {
   "cell_type": "code",
   "execution_count": 33,
   "id": "fc9be949-8800-4111-b095-aa812f3ae811",
   "metadata": {},
   "outputs": [
    {
     "data": {
      "text/plain": [
       "array([0.04587446, 0.87502283, 0.04702059, 0.66076707, 0.59136874,\n",
       "       0.27304963, 0.60043609, 0.82639181, 0.32313746, 0.35624358])"
      ]
     },
     "execution_count": 33,
     "metadata": {},
     "output_type": "execute_result"
    }
   ],
   "source": [
    "list1"
   ]
  },
  {
   "cell_type": "code",
   "execution_count": 34,
   "id": "6a61648b-3f9d-48f9-a8c3-5d0d306b9b5b",
   "metadata": {},
   "outputs": [],
   "source": [
    " #basic maths  "
   ]
  },
  {
   "cell_type": "code",
   "execution_count": null,
   "id": "c34916fa-3691-4b48-b4af-d470377bb4e7",
   "metadata": {},
   "outputs": [],
   "source": []
  }
 ],
 "metadata": {
  "kernelspec": {
   "display_name": "Python 3 (ipykernel)",
   "language": "python",
   "name": "python3"
  },
  "language_info": {
   "codemirror_mode": {
    "name": "ipython",
    "version": 3
   },
   "file_extension": ".py",
   "mimetype": "text/x-python",
   "name": "python",
   "nbconvert_exporter": "python",
   "pygments_lexer": "ipython3",
   "version": "3.12.9"
  }
 },
 "nbformat": 4,
 "nbformat_minor": 5
}
