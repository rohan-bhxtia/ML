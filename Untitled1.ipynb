{
 "cells": [
  {
   "cell_type": "markdown",
   "id": "37ce8368-5629-45a8-b14b-253bc284d74d",
   "metadata": {},
   "source": [
    "# _**CREATE**_"
   ]
  },
  {
   "cell_type": "code",
   "execution_count": 1,
   "id": "e9a16cb1-e29a-458b-b5a1-e720d42107b1",
   "metadata": {},
   "outputs": [],
   "source": [
    "import numpy as np"
   ]
  },
  {
   "cell_type": "code",
   "execution_count": 2,
   "id": "319ea6e2-c9f4-4555-b89e-dcc51f09e7b9",
   "metadata": {},
   "outputs": [],
   "source": [
    "data = np.random.rand(2,3,4,)"
   ]
  },
  {
   "cell_type": "code",
   "execution_count": 3,
   "id": "92b25ef8-ae96-4ae9-8975-8197d526f327",
   "metadata": {},
   "outputs": [
    {
     "data": {
      "text/plain": [
       "array([[[0.79126648, 0.74883324, 0.614129  , 0.57961131],\n",
       "        [0.14945409, 0.14011322, 0.4601331 , 0.38946342],\n",
       "        [0.3214168 , 0.46943911, 0.96513645, 0.66605111]],\n",
       "\n",
       "       [[0.21486147, 0.76058178, 0.42892388, 0.63057078],\n",
       "        [0.61910794, 0.34396704, 0.47703297, 0.3405556 ],\n",
       "        [0.24985136, 0.29162356, 0.68056347, 0.64809486]]])"
      ]
     },
     "execution_count": 3,
     "metadata": {},
     "output_type": "execute_result"
    }
   ],
   "source": [
    "data\n"
   ]
  },
  {
   "cell_type": "code",
   "execution_count": 4,
   "id": "0c923f40-abaa-45b5-903a-f21034cd47f2",
   "metadata": {},
   "outputs": [],
   "source": [
    "zeroes = np.zeros((2,3,4))"
   ]
  },
  {
   "cell_type": "code",
   "execution_count": 5,
   "id": "1ba8fc17-f415-4ebf-ac5c-b9f3ac60cab8",
   "metadata": {},
   "outputs": [
    {
     "data": {
      "text/plain": [
       "array([[[0., 0., 0., 0.],\n",
       "        [0., 0., 0., 0.],\n",
       "        [0., 0., 0., 0.]],\n",
       "\n",
       "       [[0., 0., 0., 0.],\n",
       "        [0., 0., 0., 0.],\n",
       "        [0., 0., 0., 0.]]])"
      ]
     },
     "execution_count": 5,
     "metadata": {},
     "output_type": "execute_result"
    }
   ],
   "source": [
    "zeroes\n"
   ]
  },
  {
   "cell_type": "code",
   "execution_count": 6,
   "id": "62c7d259-bb9b-4ed9-bbf1-fd3709050b7c",
   "metadata": {},
   "outputs": [],
   "source": [
    "full = np.full ((2,3,4),7)"
   ]
  },
  {
   "cell_type": "markdown",
   "id": "db198656-c2e4-4b7e-94e4-05fc9fb15683",
   "metadata": {},
   "source": [
    "full"
   ]
  },
  {
   "cell_type": "code",
   "execution_count": 7,
   "id": "e76a61a6-fb40-4b05-8005-2fa9fade90ce",
   "metadata": {},
   "outputs": [],
   "source": [
    "ones = np.ones((2,3,4))"
   ]
  },
  {
   "cell_type": "code",
   "execution_count": 8,
   "id": "0e7a9446-9cd6-4339-a89d-2f89b6ac8f5f",
   "metadata": {},
   "outputs": [
    {
     "data": {
      "text/plain": [
       "array([[[1., 1., 1., 1.],\n",
       "        [1., 1., 1., 1.],\n",
       "        [1., 1., 1., 1.]],\n",
       "\n",
       "       [[1., 1., 1., 1.],\n",
       "        [1., 1., 1., 1.],\n",
       "        [1., 1., 1., 1.]]])"
      ]
     },
     "execution_count": 8,
     "metadata": {},
     "output_type": "execute_result"
    }
   ],
   "source": [
    "ones"
   ]
  },
  {
   "cell_type": "markdown",
   "id": "7f7a36ca-7ddf-4236-8398-12653d6aaf75",
   "metadata": {},
   "source": [
    "### _creating array_ "
   ]
  },
  {
   "cell_type": "code",
   "execution_count": 9,
   "id": "96ebd03a-f957-41e0-9fe5-aef11192c18f",
   "metadata": {},
   "outputs": [],
   "source": [
    "array = np.array ([[1,2,3,4],[5,6,7,8],[9,10,11,12]])"
   ]
  },
  {
   "cell_type": "code",
   "execution_count": 10,
   "id": "b4401284-4cc8-450c-b76b-cff1c0dfddab",
   "metadata": {},
   "outputs": [
    {
     "data": {
      "text/plain": [
       "array([[ 1,  2,  3,  4],\n",
       "       [ 5,  6,  7,  8],\n",
       "       [ 9, 10, 11, 12]])"
      ]
     },
     "execution_count": 10,
     "metadata": {},
     "output_type": "execute_result"
    }
   ],
   "source": [
    "array"
   ]
  },
  {
   "cell_type": "markdown",
   "id": "697e8f27-fd43-48c8-b7cc-0d9fb9856cfe",
   "metadata": {},
   "source": [
    "# _**READ**_ "
   ]
  },
  {
   "cell_type": "code",
   "execution_count": 11,
   "id": "2c8752ed-3a40-4fba-9c83-1000a4aaf4c7",
   "metadata": {},
   "outputs": [],
   "source": [
    "#ATTRIBUTES "
   ]
  },
  {
   "cell_type": "code",
   "execution_count": 12,
   "id": "62a729d8-b2d3-4342-8d97-c62d7b8f34c4",
   "metadata": {},
   "outputs": [],
   "source": [
    "shape = data.shape"
   ]
  },
  {
   "cell_type": "code",
   "execution_count": 13,
   "id": "6ed9b5a3-876d-40fd-a2a4-01e2f152fa43",
   "metadata": {},
   "outputs": [],
   "source": [
    "size = data.size"
   ]
  },
  {
   "cell_type": "code",
   "execution_count": 14,
   "id": "b98ea54c-0d31-4e03-a91a-ee8761880c33",
   "metadata": {},
   "outputs": [],
   "source": [
    "type = data.dtype"
   ]
  },
  {
   "cell_type": "code",
   "execution_count": 15,
   "id": "9f21531f-d97e-48ce-9c83-ad15a4f85c33",
   "metadata": {},
   "outputs": [
    {
     "data": {
      "text/plain": [
       "(2, 3, 4)"
      ]
     },
     "execution_count": 15,
     "metadata": {},
     "output_type": "execute_result"
    }
   ],
   "source": [
    "shape "
   ]
  },
  {
   "cell_type": "code",
   "execution_count": 16,
   "id": "2e0f32e1-559d-46ef-8130-a263117d55b2",
   "metadata": {},
   "outputs": [
    {
     "data": {
      "text/plain": [
       "24"
      ]
     },
     "execution_count": 16,
     "metadata": {},
     "output_type": "execute_result"
    }
   ],
   "source": [
    "size"
   ]
  },
  {
   "cell_type": "code",
   "execution_count": 17,
   "id": "e22d8ece-5e90-4e9c-bbaf-e6f4152cf247",
   "metadata": {},
   "outputs": [
    {
     "data": {
      "text/plain": [
       "dtype('float64')"
      ]
     },
     "execution_count": 17,
     "metadata": {},
     "output_type": "execute_result"
    }
   ],
   "source": [
    "type "
   ]
  },
  {
   "cell_type": "code",
   "execution_count": 18,
   "id": "bd4bb04e-6f25-46a5-81fc-2ed945b7ac76",
   "metadata": {},
   "outputs": [],
   "source": [
    "#SLICING "
   ]
  },
  {
   "cell_type": "code",
   "execution_count": 19,
   "id": "2125d770-8d83-43a5-bd03-d7e70b2b5bec",
   "metadata": {},
   "outputs": [],
   "source": [
    "arr = data[0]"
   ]
  },
  {
   "cell_type": "code",
   "execution_count": 20,
   "id": "a797f198-0492-4e89-a9b8-1cc30eb2c046",
   "metadata": {},
   "outputs": [
    {
     "data": {
      "text/plain": [
       "array([[0.79126648, 0.74883324, 0.614129  , 0.57961131],\n",
       "       [0.14945409, 0.14011322, 0.4601331 , 0.38946342],\n",
       "       [0.3214168 , 0.46943911, 0.96513645, 0.66605111]])"
      ]
     },
     "execution_count": 20,
     "metadata": {},
     "output_type": "execute_result"
    }
   ],
   "source": [
    "arr"
   ]
  },
  {
   "cell_type": "code",
   "execution_count": 21,
   "id": "e1d7b37d-b14a-4fb4-b7df-92e16a27695b",
   "metadata": {},
   "outputs": [],
   "source": [
    "arr = data[1]"
   ]
  },
  {
   "cell_type": "code",
   "execution_count": 22,
   "id": "efa50454-9cb3-4e3f-97f0-d036f451bef8",
   "metadata": {},
   "outputs": [
    {
     "data": {
      "text/plain": [
       "array([[0.21486147, 0.76058178, 0.42892388, 0.63057078],\n",
       "       [0.61910794, 0.34396704, 0.47703297, 0.3405556 ],\n",
       "       [0.24985136, 0.29162356, 0.68056347, 0.64809486]])"
      ]
     },
     "execution_count": 22,
     "metadata": {},
     "output_type": "execute_result"
    }
   ],
   "source": [
    "arr"
   ]
  },
  {
   "cell_type": "code",
   "execution_count": 23,
   "id": "1e4b63c4-83fe-42c2-bd1d-5dc087d82bfd",
   "metadata": {},
   "outputs": [],
   "source": [
    "arr = data[0:2]"
   ]
  },
  {
   "cell_type": "code",
   "execution_count": 24,
   "id": "9721dc60-fe1b-425c-ba58-c1653239c84c",
   "metadata": {},
   "outputs": [
    {
     "data": {
      "text/plain": [
       "array([[[0.79126648, 0.74883324, 0.614129  , 0.57961131],\n",
       "        [0.14945409, 0.14011322, 0.4601331 , 0.38946342],\n",
       "        [0.3214168 , 0.46943911, 0.96513645, 0.66605111]],\n",
       "\n",
       "       [[0.21486147, 0.76058178, 0.42892388, 0.63057078],\n",
       "        [0.61910794, 0.34396704, 0.47703297, 0.3405556 ],\n",
       "        [0.24985136, 0.29162356, 0.68056347, 0.64809486]]])"
      ]
     },
     "execution_count": 24,
     "metadata": {},
     "output_type": "execute_result"
    }
   ],
   "source": [
    "arr"
   ]
  },
  {
   "cell_type": "code",
   "execution_count": 25,
   "id": "8a9b582b-0215-4a6a-8a20-80f8fd96fbae",
   "metadata": {},
   "outputs": [],
   "source": [
    "slicer = data[0:2]"
   ]
  },
  {
   "cell_type": "code",
   "execution_count": 26,
   "id": "b932dcea-0809-44eb-8629-6b89cca94cb1",
   "metadata": {},
   "outputs": [
    {
     "data": {
      "text/plain": [
       "array([[[0.79126648, 0.74883324, 0.614129  , 0.57961131],\n",
       "        [0.14945409, 0.14011322, 0.4601331 , 0.38946342],\n",
       "        [0.3214168 , 0.46943911, 0.96513645, 0.66605111]],\n",
       "\n",
       "       [[0.21486147, 0.76058178, 0.42892388, 0.63057078],\n",
       "        [0.61910794, 0.34396704, 0.47703297, 0.3405556 ],\n",
       "        [0.24985136, 0.29162356, 0.68056347, 0.64809486]]])"
      ]
     },
     "execution_count": 26,
     "metadata": {},
     "output_type": "execute_result"
    }
   ],
   "source": [
    "slicer"
   ]
  },
  {
   "cell_type": "code",
   "execution_count": 27,
   "id": "0ba37c0b-0bd0-411a-8511-e0d0080392fe",
   "metadata": {},
   "outputs": [],
   "source": [
    "reverse = data[-1]"
   ]
  },
  {
   "cell_type": "code",
   "execution_count": 28,
   "id": "718d3315-dea4-4b58-9c27-f567ab87dd1f",
   "metadata": {},
   "outputs": [
    {
     "data": {
      "text/plain": [
       "array([[0.21486147, 0.76058178, 0.42892388, 0.63057078],\n",
       "       [0.61910794, 0.34396704, 0.47703297, 0.3405556 ],\n",
       "       [0.24985136, 0.29162356, 0.68056347, 0.64809486]])"
      ]
     },
     "execution_count": 28,
     "metadata": {},
     "output_type": "execute_result"
    }
   ],
   "source": [
    "reverse"
   ]
  },
  {
   "cell_type": "code",
   "execution_count": 29,
   "id": "e3b6df03-6b8a-443d-8108-05170d45bfd1",
   "metadata": {},
   "outputs": [],
   "source": [
    " single_value = data[1][2][2]"
   ]
  },
  {
   "cell_type": "code",
   "execution_count": 30,
   "id": "dcb449d8-1fa6-4d9b-85e5-4f71adad3600",
   "metadata": {
    "jupyter": {
     "source_hidden": true
    }
   },
   "outputs": [
    {
     "data": {
      "text/plain": [
       "0.6805634703408825"
      ]
     },
     "execution_count": 30,
     "metadata": {},
     "output_type": "execute_result"
    }
   ],
   "source": [
    "single_value"
   ]
  },
  {
   "cell_type": "markdown",
   "id": "5097afb6-9475-4f93-97a5-06d2c30615ac",
   "metadata": {},
   "source": [
    "# _**UPDATE**_"
   ]
  },
  {
   "cell_type": "code",
   "execution_count": 31,
   "id": "0db3b0ec-4da1-4beb-8475-db38422e263c",
   "metadata": {},
   "outputs": [],
   "source": [
    "list1 = np.random.rand(10)"
   ]
  },
  {
   "cell_type": "code",
   "execution_count": 32,
   "id": "fc9be949-8800-4111-b095-aa812f3ae811",
   "metadata": {},
   "outputs": [
    {
     "data": {
      "text/plain": [
       "array([7.62800273e-01, 5.37107828e-01, 2.65142338e-01, 9.34258963e-01,\n",
       "       9.36428244e-01, 3.64037701e-01, 1.93171986e-04, 6.51286600e-01,\n",
       "       1.13491598e-01, 7.97072151e-01])"
      ]
     },
     "execution_count": 32,
     "metadata": {},
     "output_type": "execute_result"
    }
   ],
   "source": [
    "list1"
   ]
  },
  {
   "cell_type": "code",
   "execution_count": 33,
   "id": "6a61648b-3f9d-48f9-a8c3-5d0d306b9b5b",
   "metadata": {},
   "outputs": [],
   "source": [
    " #basic maths  "
   ]
  },
  {
   "cell_type": "code",
   "execution_count": 34,
   "id": "c34916fa-3691-4b48-b4af-d470377bb4e7",
   "metadata": {},
   "outputs": [],
   "source": [
    "add = np.add(list1 , 2 )"
   ]
  },
  {
   "cell_type": "code",
   "execution_count": 35,
   "id": "5add9850-2e84-41f8-8e1a-640d231209d1",
   "metadata": {},
   "outputs": [
    {
     "data": {
      "text/plain": [
       "array([2.76280027, 2.53710783, 2.26514234, 2.93425896, 2.93642824,\n",
       "       2.3640377 , 2.00019317, 2.6512866 , 2.1134916 , 2.79707215])"
      ]
     },
     "execution_count": 35,
     "metadata": {},
     "output_type": "execute_result"
    }
   ],
   "source": [
    "add"
   ]
  },
  {
   "cell_type": "code",
   "execution_count": 36,
   "id": "89a91d39-d8c9-4b36-9906-f8c753422ad8",
   "metadata": {},
   "outputs": [],
   "source": [
    "subtract = np.subtract (list1 , 2)"
   ]
  },
  {
   "cell_type": "code",
   "execution_count": 37,
   "id": "39913743-d8f5-4002-b964-03c288cf699d",
   "metadata": {},
   "outputs": [
    {
     "data": {
      "text/plain": [
       "array([-1.23719973, -1.46289217, -1.73485766, -1.06574104, -1.06357176,\n",
       "       -1.6359623 , -1.99980683, -1.3487134 , -1.8865084 , -1.20292785])"
      ]
     },
     "execution_count": 37,
     "metadata": {},
     "output_type": "execute_result"
    }
   ],
   "source": [
    "subtract"
   ]
  },
  {
   "cell_type": "code",
   "execution_count": 38,
   "id": "988629f6-cab3-49e1-8595-9593f3d79e06",
   "metadata": {},
   "outputs": [],
   "source": [
    "list2 = list1. reshape( 5,2)"
   ]
  },
  {
   "cell_type": "code",
   "execution_count": 39,
   "id": "c13e7b11-5adb-4a4c-84c7-2d641a6a8670",
   "metadata": {},
   "outputs": [
    {
     "data": {
      "text/plain": [
       "array([[7.62800273e-01, 5.37107828e-01],\n",
       "       [2.65142338e-01, 9.34258963e-01],\n",
       "       [9.36428244e-01, 3.64037701e-01],\n",
       "       [1.93171986e-04, 6.51286600e-01],\n",
       "       [1.13491598e-01, 7.97072151e-01]])"
      ]
     },
     "execution_count": 39,
     "metadata": {},
     "output_type": "execute_result"
    }
   ],
   "source": [
    "list2"
   ]
  },
  {
   "cell_type": "code",
   "execution_count": 40,
   "id": "db84ba13-73a6-45eb-99cf-f3f44b75cdbd",
   "metadata": {},
   "outputs": [],
   "source": [
    "list2 = list2.reshape ( 1,10)"
   ]
  },
  {
   "cell_type": "code",
   "execution_count": 41,
   "id": "ed96e366-0e98-4c1d-be1c-713f2980303d",
   "metadata": {},
   "outputs": [
    {
     "data": {
      "text/plain": [
       "array([[7.62800273e-01, 5.37107828e-01, 2.65142338e-01, 9.34258963e-01,\n",
       "        9.36428244e-01, 3.64037701e-01, 1.93171986e-04, 6.51286600e-01,\n",
       "        1.13491598e-01, 7.97072151e-01]])"
      ]
     },
     "execution_count": 41,
     "metadata": {},
     "output_type": "execute_result"
    }
   ],
   "source": [
    "list2"
   ]
  },
  {
   "cell_type": "code",
   "execution_count": 42,
   "id": "a10c7c01-a75c-432e-8b90-564be94cf20e",
   "metadata": {},
   "outputs": [],
   "source": [
    "sub = np.subtract ( list1 , list2)"
   ]
  },
  {
   "cell_type": "code",
   "execution_count": 43,
   "id": "d59a6015-4ed2-416e-81ea-42c22cdc3e59",
   "metadata": {},
   "outputs": [
    {
     "data": {
      "text/plain": [
       "array([[0., 0., 0., 0., 0., 0., 0., 0., 0., 0.]])"
      ]
     },
     "execution_count": 43,
     "metadata": {},
     "output_type": "execute_result"
    }
   ],
   "source": [
    "sub"
   ]
  },
  {
   "cell_type": "code",
   "execution_count": 44,
   "id": "6bed86a8-e080-45ea-ad61-3cb539650984",
   "metadata": {},
   "outputs": [],
   "source": [
    "list3 = np.random.rand(10)\n"
   ]
  },
  {
   "cell_type": "code",
   "execution_count": 45,
   "id": "d2f4eb95-dcb8-4035-a1fd-9ca354e5ba17",
   "metadata": {},
   "outputs": [
    {
     "data": {
      "text/plain": [
       "array([0.338827  , 0.01669373, 0.77328379, 0.91130103, 0.49876054,\n",
       "       0.58825543, 0.94250459, 0.42622784, 0.5748073 , 0.20176399])"
      ]
     },
     "execution_count": 45,
     "metadata": {},
     "output_type": "execute_result"
    }
   ],
   "source": [
    "list3"
   ]
  },
  {
   "cell_type": "code",
   "execution_count": 46,
   "id": "64c44036-2563-4c6d-a47c-d8b0fa3d25ff",
   "metadata": {},
   "outputs": [],
   "source": [
    "dot = np.dot ( list1 , list3)"
   ]
  },
  {
   "cell_type": "code",
   "execution_count": 47,
   "id": "9d7aac12-53d0-4931-8501-57da35816280",
   "metadata": {},
   "outputs": [
    {
     "data": {
      "text/plain": [
       "2.508880503145305"
      ]
     },
     "execution_count": 47,
     "metadata": {},
     "output_type": "execute_result"
    }
   ],
   "source": [
    "dot\n"
   ]
  },
  {
   "cell_type": "code",
   "execution_count": 48,
   "id": "c0eb27a8-a6d5-427e-8da8-deabb328791f",
   "metadata": {},
   "outputs": [],
   "source": [
    "list1 = list1.reshape (2,5)\n",
    "list3 = list3.reshape (5,2)"
   ]
  },
  {
   "cell_type": "code",
   "execution_count": 49,
   "id": "e04362c9-3202-4936-b3dd-49b8c7878247",
   "metadata": {},
   "outputs": [
    {
     "data": {
      "text/plain": [
       "array([[7.62800273e-01, 5.37107828e-01, 2.65142338e-01, 9.34258963e-01,\n",
       "        9.36428244e-01],\n",
       "       [3.64037701e-01, 1.93171986e-04, 6.51286600e-01, 1.13491598e-01,\n",
       "        7.97072151e-01]])"
      ]
     },
     "execution_count": 49,
     "metadata": {},
     "output_type": "execute_result"
    }
   ],
   "source": [
    "list1"
   ]
  },
  {
   "cell_type": "code",
   "execution_count": 50,
   "id": "80193c2e-fb1c-4dcd-b9e1-b593b682ed0b",
   "metadata": {},
   "outputs": [
    {
     "data": {
      "text/plain": [
       "array([[0.338827  , 0.01669373],\n",
       "       [0.77328379, 0.91130103],\n",
       "       [0.49876054, 0.58825543],\n",
       "       [0.94250459, 0.42622784],\n",
       "       [0.5748073 , 0.20176399]])"
      ]
     },
     "execution_count": 50,
     "metadata": {},
     "output_type": "execute_result"
    }
   ],
   "source": [
    "list3"
   ]
  },
  {
   "cell_type": "code",
   "execution_count": 51,
   "id": "6ac63e44-0e34-4c7b-bec2-2d7fb02cbe3a",
   "metadata": {},
   "outputs": [],
   "source": [
    "dot = np.dot ( list1 , list3)"
   ]
  },
  {
   "cell_type": "code",
   "execution_count": 52,
   "id": "8f14bb40-71ee-4126-825d-959609865aa3",
   "metadata": {},
   "outputs": [
    {
     "data": {
      "text/plain": [
       "array([[2.22484579, 1.245317  ],\n",
       "       [1.01346048, 0.59856979]])"
      ]
     },
     "execution_count": 52,
     "metadata": {},
     "output_type": "execute_result"
    }
   ],
   "source": [
    "dot"
   ]
  },
  {
   "cell_type": "markdown",
   "id": "8e8dc0ff-eda3-4a28-9a4d-6f79d89e5a0f",
   "metadata": {},
   "source": [
    "### stat functions "
   ]
  },
  {
   "cell_type": "code",
   "execution_count": 54,
   "id": "43c2dd19-f98a-492b-9128-43a8b25cb0f3",
   "metadata": {},
   "outputs": [],
   "source": [
    "#SAPLEMM"
   ]
  },
  {
   "cell_type": "code",
   "execution_count": 58,
   "id": "35949575-31b1-4a66-9471-ac9ee1de3566",
   "metadata": {},
   "outputs": [],
   "source": [
    "sqrt = np.sqrt(121)\n",
    "ab = np.abs(-14.3)# gives absolute value \n",
    "power = np.power(2,10)\n",
    "log = np.log(2)\n",
    "exp = np.exp([2,3])\n",
    "max = np.max(list3)\n",
    "min = np.min(list3)"
   ]
  },
  {
   "cell_type": "code",
   "execution_count": 59,
   "id": "9e99cdc4-1ec7-4609-9a11-5d2c4b31da90",
   "metadata": {},
   "outputs": [
    {
     "data": {
      "text/plain": [
       "11.0"
      ]
     },
     "execution_count": 59,
     "metadata": {},
     "output_type": "execute_result"
    }
   ],
   "source": [
    "sqrt\n"
   ]
  },
  {
   "cell_type": "code",
   "execution_count": 60,
   "id": "2664a9cd-0c9e-4ff1-92a9-a1e58a9f04c2",
   "metadata": {},
   "outputs": [
    {
     "data": {
      "text/plain": [
       "14.3"
      ]
     },
     "execution_count": 60,
     "metadata": {},
     "output_type": "execute_result"
    }
   ],
   "source": [
    "ab"
   ]
  },
  {
   "cell_type": "code",
   "execution_count": 61,
   "id": "bf66f25f-ddf4-48dd-b64f-163036d14e5f",
   "metadata": {},
   "outputs": [
    {
     "data": {
      "text/plain": [
       "1024"
      ]
     },
     "execution_count": 61,
     "metadata": {},
     "output_type": "execute_result"
    }
   ],
   "source": [
    "power"
   ]
  },
  {
   "cell_type": "code",
   "execution_count": 62,
   "id": "d9635da3-8b7b-462a-bb92-ddad20f38267",
   "metadata": {},
   "outputs": [
    {
     "data": {
      "text/plain": [
       "0.6931471805599453"
      ]
     },
     "execution_count": 62,
     "metadata": {},
     "output_type": "execute_result"
    }
   ],
   "source": [
    "log"
   ]
  },
  {
   "cell_type": "code",
   "execution_count": 63,
   "id": "6ceeaf32-9ac6-4d50-bb69-af543f4e5b3d",
   "metadata": {},
   "outputs": [
    {
     "data": {
      "text/plain": [
       "array([ 7.3890561 , 20.08553692])"
      ]
     },
     "execution_count": 63,
     "metadata": {},
     "output_type": "execute_result"
    }
   ],
   "source": [
    "exp"
   ]
  },
  {
   "cell_type": "code",
   "execution_count": null,
   "id": "bc0c83f0-f616-406e-9202-f40bd41121d2",
   "metadata": {},
   "outputs": [],
   "source": []
  },
  {
   "cell_type": "code",
   "execution_count": null,
   "id": "8609b69a-3aed-4ff5-ba4c-ecb08649737f",
   "metadata": {},
   "outputs": [],
   "source": []
  },
  {
   "cell_type": "code",
   "execution_count": null,
   "id": "3b54f2c0-5fe1-4c67-8641-dd3790fef7dd",
   "metadata": {},
   "outputs": [],
   "source": []
  }
 ],
 "metadata": {
  "kernelspec": {
   "display_name": "Python 3 (ipykernel)",
   "language": "python",
   "name": "python3"
  },
  "language_info": {
   "codemirror_mode": {
    "name": "ipython",
    "version": 3
   },
   "file_extension": ".py",
   "mimetype": "text/x-python",
   "name": "python",
   "nbconvert_exporter": "python",
   "pygments_lexer": "ipython3",
   "version": "3.12.9"
  }
 },
 "nbformat": 4,
 "nbformat_minor": 5
}
