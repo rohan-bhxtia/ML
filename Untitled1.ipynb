{
 "cells": [
  {
   "cell_type": "markdown",
   "id": "37ce8368-5629-45a8-b14b-253bc284d74d",
   "metadata": {},
   "source": [
    "# _**CREATE**_"
   ]
  },
  {
   "cell_type": "code",
   "execution_count": 1,
   "id": "e9a16cb1-e29a-458b-b5a1-e720d42107b1",
   "metadata": {},
   "outputs": [],
   "source": [
    "import numpy as np"
   ]
  },
  {
   "cell_type": "code",
   "execution_count": 2,
   "id": "319ea6e2-c9f4-4555-b89e-dcc51f09e7b9",
   "metadata": {},
   "outputs": [],
   "source": [
    "data = np.random.rand(2,3,4,)"
   ]
  },
  {
   "cell_type": "code",
   "execution_count": 3,
   "id": "92b25ef8-ae96-4ae9-8975-8197d526f327",
   "metadata": {},
   "outputs": [
    {
     "data": {
      "text/plain": [
       "array([[[0.9536551 , 0.93967605, 0.44973898, 0.81353024],\n",
       "        [0.57064663, 0.33447805, 0.90354737, 0.45010933],\n",
       "        [0.03152413, 0.455515  , 0.90740407, 0.22462491]],\n",
       "\n",
       "       [[0.72856046, 0.19247705, 0.45122735, 0.63223205],\n",
       "        [0.71178105, 0.17476132, 0.78398367, 0.49292958],\n",
       "        [0.51071382, 0.9432377 , 0.68734849, 0.05277457]]])"
      ]
     },
     "execution_count": 3,
     "metadata": {},
     "output_type": "execute_result"
    }
   ],
   "source": [
    "data\n"
   ]
  },
  {
   "cell_type": "code",
   "execution_count": 4,
   "id": "0c923f40-abaa-45b5-903a-f21034cd47f2",
   "metadata": {},
   "outputs": [],
   "source": [
    "zeroes = np.zeros((2,3,4))"
   ]
  },
  {
   "cell_type": "code",
   "execution_count": 5,
   "id": "1ba8fc17-f415-4ebf-ac5c-b9f3ac60cab8",
   "metadata": {},
   "outputs": [
    {
     "data": {
      "text/plain": [
       "array([[[0., 0., 0., 0.],\n",
       "        [0., 0., 0., 0.],\n",
       "        [0., 0., 0., 0.]],\n",
       "\n",
       "       [[0., 0., 0., 0.],\n",
       "        [0., 0., 0., 0.],\n",
       "        [0., 0., 0., 0.]]])"
      ]
     },
     "execution_count": 5,
     "metadata": {},
     "output_type": "execute_result"
    }
   ],
   "source": [
    "zeroes\n"
   ]
  },
  {
   "cell_type": "code",
   "execution_count": 6,
   "id": "62c7d259-bb9b-4ed9-bbf1-fd3709050b7c",
   "metadata": {},
   "outputs": [],
   "source": [
    "full = np.full ((2,3,4),7)"
   ]
  },
  {
   "cell_type": "markdown",
   "id": "db198656-c2e4-4b7e-94e4-05fc9fb15683",
   "metadata": {},
   "source": [
    "full"
   ]
  },
  {
   "cell_type": "code",
   "execution_count": 7,
   "id": "e76a61a6-fb40-4b05-8005-2fa9fade90ce",
   "metadata": {},
   "outputs": [],
   "source": [
    "ones = np.ones((2,3,4))"
   ]
  },
  {
   "cell_type": "code",
   "execution_count": 8,
   "id": "0e7a9446-9cd6-4339-a89d-2f89b6ac8f5f",
   "metadata": {},
   "outputs": [
    {
     "data": {
      "text/plain": [
       "array([[[1., 1., 1., 1.],\n",
       "        [1., 1., 1., 1.],\n",
       "        [1., 1., 1., 1.]],\n",
       "\n",
       "       [[1., 1., 1., 1.],\n",
       "        [1., 1., 1., 1.],\n",
       "        [1., 1., 1., 1.]]])"
      ]
     },
     "execution_count": 8,
     "metadata": {},
     "output_type": "execute_result"
    }
   ],
   "source": [
    "ones"
   ]
  },
  {
   "cell_type": "markdown",
   "id": "7f7a36ca-7ddf-4236-8398-12653d6aaf75",
   "metadata": {},
   "source": [
    "### _creating array_ "
   ]
  },
  {
   "cell_type": "code",
   "execution_count": 9,
   "id": "96ebd03a-f957-41e0-9fe5-aef11192c18f",
   "metadata": {},
   "outputs": [],
   "source": [
    "array = np.array ([[1,2,3,4],[5,6,7,8],[9,10,11,12]])"
   ]
  },
  {
   "cell_type": "code",
   "execution_count": 10,
   "id": "b4401284-4cc8-450c-b76b-cff1c0dfddab",
   "metadata": {},
   "outputs": [
    {
     "data": {
      "text/plain": [
       "array([[ 1,  2,  3,  4],\n",
       "       [ 5,  6,  7,  8],\n",
       "       [ 9, 10, 11, 12]])"
      ]
     },
     "execution_count": 10,
     "metadata": {},
     "output_type": "execute_result"
    }
   ],
   "source": [
    "array"
   ]
  },
  {
   "cell_type": "markdown",
   "id": "697e8f27-fd43-48c8-b7cc-0d9fb9856cfe",
   "metadata": {},
   "source": [
    "# _**READ**_ "
   ]
  },
  {
   "cell_type": "code",
   "execution_count": 11,
   "id": "2c8752ed-3a40-4fba-9c83-1000a4aaf4c7",
   "metadata": {},
   "outputs": [],
   "source": [
    "#ATTRIBUTES "
   ]
  },
  {
   "cell_type": "code",
   "execution_count": 12,
   "id": "62a729d8-b2d3-4342-8d97-c62d7b8f34c4",
   "metadata": {},
   "outputs": [],
   "source": [
    "shape = data.shape"
   ]
  },
  {
   "cell_type": "code",
   "execution_count": 13,
   "id": "6ed9b5a3-876d-40fd-a2a4-01e2f152fa43",
   "metadata": {},
   "outputs": [],
   "source": [
    "size = data.size"
   ]
  },
  {
   "cell_type": "code",
   "execution_count": 14,
   "id": "b98ea54c-0d31-4e03-a91a-ee8761880c33",
   "metadata": {},
   "outputs": [],
   "source": [
    "type = data.dtype"
   ]
  },
  {
   "cell_type": "code",
   "execution_count": 15,
   "id": "9f21531f-d97e-48ce-9c83-ad15a4f85c33",
   "metadata": {},
   "outputs": [
    {
     "data": {
      "text/plain": [
       "(2, 3, 4)"
      ]
     },
     "execution_count": 15,
     "metadata": {},
     "output_type": "execute_result"
    }
   ],
   "source": [
    "shape "
   ]
  },
  {
   "cell_type": "code",
   "execution_count": 16,
   "id": "2e0f32e1-559d-46ef-8130-a263117d55b2",
   "metadata": {},
   "outputs": [
    {
     "data": {
      "text/plain": [
       "24"
      ]
     },
     "execution_count": 16,
     "metadata": {},
     "output_type": "execute_result"
    }
   ],
   "source": [
    "size"
   ]
  },
  {
   "cell_type": "code",
   "execution_count": 17,
   "id": "e22d8ece-5e90-4e9c-bbaf-e6f4152cf247",
   "metadata": {},
   "outputs": [
    {
     "data": {
      "text/plain": [
       "dtype('float64')"
      ]
     },
     "execution_count": 17,
     "metadata": {},
     "output_type": "execute_result"
    }
   ],
   "source": [
    "type "
   ]
  },
  {
   "cell_type": "code",
   "execution_count": 18,
   "id": "bd4bb04e-6f25-46a5-81fc-2ed945b7ac76",
   "metadata": {},
   "outputs": [],
   "source": [
    "#SLICING "
   ]
  },
  {
   "cell_type": "code",
   "execution_count": 19,
   "id": "2125d770-8d83-43a5-bd03-d7e70b2b5bec",
   "metadata": {},
   "outputs": [],
   "source": [
    "arr = data[0]"
   ]
  },
  {
   "cell_type": "code",
   "execution_count": 20,
   "id": "a797f198-0492-4e89-a9b8-1cc30eb2c046",
   "metadata": {},
   "outputs": [
    {
     "data": {
      "text/plain": [
       "array([[0.9536551 , 0.93967605, 0.44973898, 0.81353024],\n",
       "       [0.57064663, 0.33447805, 0.90354737, 0.45010933],\n",
       "       [0.03152413, 0.455515  , 0.90740407, 0.22462491]])"
      ]
     },
     "execution_count": 20,
     "metadata": {},
     "output_type": "execute_result"
    }
   ],
   "source": [
    "arr"
   ]
  },
  {
   "cell_type": "code",
   "execution_count": 21,
   "id": "e1d7b37d-b14a-4fb4-b7df-92e16a27695b",
   "metadata": {},
   "outputs": [],
   "source": [
    "arr = data[1]"
   ]
  },
  {
   "cell_type": "code",
   "execution_count": 22,
   "id": "efa50454-9cb3-4e3f-97f0-d036f451bef8",
   "metadata": {},
   "outputs": [
    {
     "data": {
      "text/plain": [
       "array([[0.72856046, 0.19247705, 0.45122735, 0.63223205],\n",
       "       [0.71178105, 0.17476132, 0.78398367, 0.49292958],\n",
       "       [0.51071382, 0.9432377 , 0.68734849, 0.05277457]])"
      ]
     },
     "execution_count": 22,
     "metadata": {},
     "output_type": "execute_result"
    }
   ],
   "source": [
    "arr"
   ]
  },
  {
   "cell_type": "code",
   "execution_count": 23,
   "id": "1e4b63c4-83fe-42c2-bd1d-5dc087d82bfd",
   "metadata": {},
   "outputs": [],
   "source": [
    "arr = data[0:2]"
   ]
  },
  {
   "cell_type": "code",
   "execution_count": 24,
   "id": "9721dc60-fe1b-425c-ba58-c1653239c84c",
   "metadata": {},
   "outputs": [
    {
     "data": {
      "text/plain": [
       "array([[[0.9536551 , 0.93967605, 0.44973898, 0.81353024],\n",
       "        [0.57064663, 0.33447805, 0.90354737, 0.45010933],\n",
       "        [0.03152413, 0.455515  , 0.90740407, 0.22462491]],\n",
       "\n",
       "       [[0.72856046, 0.19247705, 0.45122735, 0.63223205],\n",
       "        [0.71178105, 0.17476132, 0.78398367, 0.49292958],\n",
       "        [0.51071382, 0.9432377 , 0.68734849, 0.05277457]]])"
      ]
     },
     "execution_count": 24,
     "metadata": {},
     "output_type": "execute_result"
    }
   ],
   "source": [
    "arr"
   ]
  },
  {
   "cell_type": "code",
   "execution_count": 25,
   "id": "8a9b582b-0215-4a6a-8a20-80f8fd96fbae",
   "metadata": {},
   "outputs": [],
   "source": [
    "slicer = data[0:2]"
   ]
  },
  {
   "cell_type": "code",
   "execution_count": 26,
   "id": "b932dcea-0809-44eb-8629-6b89cca94cb1",
   "metadata": {},
   "outputs": [
    {
     "data": {
      "text/plain": [
       "array([[[0.9536551 , 0.93967605, 0.44973898, 0.81353024],\n",
       "        [0.57064663, 0.33447805, 0.90354737, 0.45010933],\n",
       "        [0.03152413, 0.455515  , 0.90740407, 0.22462491]],\n",
       "\n",
       "       [[0.72856046, 0.19247705, 0.45122735, 0.63223205],\n",
       "        [0.71178105, 0.17476132, 0.78398367, 0.49292958],\n",
       "        [0.51071382, 0.9432377 , 0.68734849, 0.05277457]]])"
      ]
     },
     "execution_count": 26,
     "metadata": {},
     "output_type": "execute_result"
    }
   ],
   "source": [
    "slicer"
   ]
  },
  {
   "cell_type": "code",
   "execution_count": 27,
   "id": "0ba37c0b-0bd0-411a-8511-e0d0080392fe",
   "metadata": {},
   "outputs": [],
   "source": [
    "reverse = data[-1]"
   ]
  },
  {
   "cell_type": "code",
   "execution_count": 28,
   "id": "718d3315-dea4-4b58-9c27-f567ab87dd1f",
   "metadata": {},
   "outputs": [
    {
     "data": {
      "text/plain": [
       "array([[0.72856046, 0.19247705, 0.45122735, 0.63223205],\n",
       "       [0.71178105, 0.17476132, 0.78398367, 0.49292958],\n",
       "       [0.51071382, 0.9432377 , 0.68734849, 0.05277457]])"
      ]
     },
     "execution_count": 28,
     "metadata": {},
     "output_type": "execute_result"
    }
   ],
   "source": [
    "reverse"
   ]
  },
  {
   "cell_type": "code",
   "execution_count": 29,
   "id": "e3b6df03-6b8a-443d-8108-05170d45bfd1",
   "metadata": {},
   "outputs": [],
   "source": [
    " single_value = data[1][2][2]"
   ]
  },
  {
   "cell_type": "code",
   "execution_count": 30,
   "id": "dcb449d8-1fa6-4d9b-85e5-4f71adad3600",
   "metadata": {
    "jupyter": {
     "source_hidden": true
    }
   },
   "outputs": [
    {
     "data": {
      "text/plain": [
       "0.6873484913094368"
      ]
     },
     "execution_count": 30,
     "metadata": {},
     "output_type": "execute_result"
    }
   ],
   "source": [
    "single_value"
   ]
  },
  {
   "cell_type": "markdown",
   "id": "5097afb6-9475-4f93-97a5-06d2c30615ac",
   "metadata": {},
   "source": [
    "# _**UPDATE**_"
   ]
  },
  {
   "cell_type": "code",
   "execution_count": 31,
   "id": "0db3b0ec-4da1-4beb-8475-db38422e263c",
   "metadata": {},
   "outputs": [],
   "source": [
    "list1 = np.random.rand(10)"
   ]
  },
  {
   "cell_type": "code",
   "execution_count": 32,
   "id": "fc9be949-8800-4111-b095-aa812f3ae811",
   "metadata": {},
   "outputs": [
    {
     "data": {
      "text/plain": [
       "array([0.56984427, 0.41148452, 0.43328839, 0.07795819, 0.86908845,\n",
       "       0.50112806, 0.2496152 , 0.82708782, 0.06731306, 0.0590301 ])"
      ]
     },
     "execution_count": 32,
     "metadata": {},
     "output_type": "execute_result"
    }
   ],
   "source": [
    "list1"
   ]
  },
  {
   "cell_type": "code",
   "execution_count": 33,
   "id": "6a61648b-3f9d-48f9-a8c3-5d0d306b9b5b",
   "metadata": {},
   "outputs": [],
   "source": [
    " #basic maths  "
   ]
  },
  {
   "cell_type": "code",
   "execution_count": 34,
   "id": "c34916fa-3691-4b48-b4af-d470377bb4e7",
   "metadata": {},
   "outputs": [],
   "source": [
    "add = np.add(list1 , 2 )"
   ]
  },
  {
   "cell_type": "code",
   "execution_count": 35,
   "id": "5add9850-2e84-41f8-8e1a-640d231209d1",
   "metadata": {},
   "outputs": [
    {
     "data": {
      "text/plain": [
       "array([2.56984427, 2.41148452, 2.43328839, 2.07795819, 2.86908845,\n",
       "       2.50112806, 2.2496152 , 2.82708782, 2.06731306, 2.0590301 ])"
      ]
     },
     "execution_count": 35,
     "metadata": {},
     "output_type": "execute_result"
    }
   ],
   "source": [
    "add"
   ]
  },
  {
   "cell_type": "code",
   "execution_count": 36,
   "id": "89a91d39-d8c9-4b36-9906-f8c753422ad8",
   "metadata": {},
   "outputs": [],
   "source": [
    "subtract = np.subtract (list1 , 2)"
   ]
  },
  {
   "cell_type": "code",
   "execution_count": 37,
   "id": "39913743-d8f5-4002-b964-03c288cf699d",
   "metadata": {},
   "outputs": [
    {
     "data": {
      "text/plain": [
       "array([-1.43015573, -1.58851548, -1.56671161, -1.92204181, -1.13091155,\n",
       "       -1.49887194, -1.7503848 , -1.17291218, -1.93268694, -1.9409699 ])"
      ]
     },
     "execution_count": 37,
     "metadata": {},
     "output_type": "execute_result"
    }
   ],
   "source": [
    "subtract"
   ]
  },
  {
   "cell_type": "code",
   "execution_count": 38,
   "id": "988629f6-cab3-49e1-8595-9593f3d79e06",
   "metadata": {},
   "outputs": [],
   "source": [
    "list2 = list1. reshape( 5,2)"
   ]
  },
  {
   "cell_type": "code",
   "execution_count": 39,
   "id": "c13e7b11-5adb-4a4c-84c7-2d641a6a8670",
   "metadata": {},
   "outputs": [
    {
     "data": {
      "text/plain": [
       "array([[0.56984427, 0.41148452],\n",
       "       [0.43328839, 0.07795819],\n",
       "       [0.86908845, 0.50112806],\n",
       "       [0.2496152 , 0.82708782],\n",
       "       [0.06731306, 0.0590301 ]])"
      ]
     },
     "execution_count": 39,
     "metadata": {},
     "output_type": "execute_result"
    }
   ],
   "source": [
    "list2"
   ]
  },
  {
   "cell_type": "code",
   "execution_count": 40,
   "id": "db84ba13-73a6-45eb-99cf-f3f44b75cdbd",
   "metadata": {},
   "outputs": [],
   "source": [
    "list2 = list2.reshape ( 1,10)"
   ]
  },
  {
   "cell_type": "code",
   "execution_count": 41,
   "id": "ed96e366-0e98-4c1d-be1c-713f2980303d",
   "metadata": {},
   "outputs": [
    {
     "data": {
      "text/plain": [
       "array([[0.56984427, 0.41148452, 0.43328839, 0.07795819, 0.86908845,\n",
       "        0.50112806, 0.2496152 , 0.82708782, 0.06731306, 0.0590301 ]])"
      ]
     },
     "execution_count": 41,
     "metadata": {},
     "output_type": "execute_result"
    }
   ],
   "source": [
    "list2"
   ]
  },
  {
   "cell_type": "code",
   "execution_count": 42,
   "id": "a10c7c01-a75c-432e-8b90-564be94cf20e",
   "metadata": {},
   "outputs": [],
   "source": [
    "sub = np.subtract ( list1 , list2)"
   ]
  },
  {
   "cell_type": "code",
   "execution_count": 43,
   "id": "d59a6015-4ed2-416e-81ea-42c22cdc3e59",
   "metadata": {},
   "outputs": [
    {
     "data": {
      "text/plain": [
       "array([[0., 0., 0., 0., 0., 0., 0., 0., 0., 0.]])"
      ]
     },
     "execution_count": 43,
     "metadata": {},
     "output_type": "execute_result"
    }
   ],
   "source": [
    "sub"
   ]
  },
  {
   "cell_type": "code",
   "execution_count": 44,
   "id": "6bed86a8-e080-45ea-ad61-3cb539650984",
   "metadata": {},
   "outputs": [],
   "source": [
    "list3 = np.random.rand(10)\n"
   ]
  },
  {
   "cell_type": "code",
   "execution_count": 45,
   "id": "d2f4eb95-dcb8-4035-a1fd-9ca354e5ba17",
   "metadata": {},
   "outputs": [
    {
     "data": {
      "text/plain": [
       "array([0.55621193, 0.55289697, 0.46273244, 0.97386076, 0.67281444,\n",
       "       0.96746728, 0.67217466, 0.8917548 , 0.33884453, 0.80652175])"
      ]
     },
     "execution_count": 45,
     "metadata": {},
     "output_type": "execute_result"
    }
   ],
   "source": [
    "list3"
   ]
  },
  {
   "cell_type": "code",
   "execution_count": 46,
   "id": "64c44036-2563-4c6d-a47c-d8b0fa3d25ff",
   "metadata": {},
   "outputs": [],
   "source": [
    "dot = np.dot ( list1 , list3)"
   ]
  },
  {
   "cell_type": "code",
   "execution_count": 47,
   "id": "9d7aac12-53d0-4931-8501-57da35816280",
   "metadata": {},
   "outputs": [
    {
     "data": {
      "text/plain": [
       "2.8662022731804844"
      ]
     },
     "execution_count": 47,
     "metadata": {},
     "output_type": "execute_result"
    }
   ],
   "source": [
    "dot\n"
   ]
  },
  {
   "cell_type": "code",
   "execution_count": 48,
   "id": "c0eb27a8-a6d5-427e-8da8-deabb328791f",
   "metadata": {},
   "outputs": [],
   "source": [
    "list1 = list1.reshape (2,5)\n",
    "list3 = list3.reshape (5,2)"
   ]
  },
  {
   "cell_type": "code",
   "execution_count": 49,
   "id": "e04362c9-3202-4936-b3dd-49b8c7878247",
   "metadata": {},
   "outputs": [
    {
     "data": {
      "text/plain": [
       "array([[0.56984427, 0.41148452, 0.43328839, 0.07795819, 0.86908845],\n",
       "       [0.50112806, 0.2496152 , 0.82708782, 0.06731306, 0.0590301 ]])"
      ]
     },
     "execution_count": 49,
     "metadata": {},
     "output_type": "execute_result"
    }
   ],
   "source": [
    "list1"
   ]
  },
  {
   "cell_type": "code",
   "execution_count": 50,
   "id": "80193c2e-fb1c-4dcd-b9e1-b593b682ed0b",
   "metadata": {},
   "outputs": [
    {
     "data": {
      "text/plain": [
       "array([[0.55621193, 0.55289697],\n",
       "       [0.46273244, 0.97386076],\n",
       "       [0.67281444, 0.96746728],\n",
       "       [0.67217466, 0.8917548 ],\n",
       "       [0.33884453, 0.80652175]])"
      ]
     },
     "execution_count": 50,
     "metadata": {},
     "output_type": "execute_result"
    }
   ],
   "source": [
    "list3"
   ]
  },
  {
   "cell_type": "code",
   "execution_count": 51,
   "id": "6ac63e44-0e34-4c7b-bec2-2d7fb02cbe3a",
   "metadata": {},
   "outputs": [],
   "source": [
    "dot = np.dot ( list1 , list3)"
   ]
  },
  {
   "cell_type": "code",
   "execution_count": 52,
   "id": "8f14bb40-71ee-4126-825d-959609865aa3",
   "metadata": {},
   "outputs": [
    {
     "data": {
      "text/plain": [
       "array([[1.14577149, 1.90544447],\n",
       "       [1.01596324, 1.42797885]])"
      ]
     },
     "execution_count": 52,
     "metadata": {},
     "output_type": "execute_result"
    }
   ],
   "source": [
    "dot"
   ]
  },
  {
   "cell_type": "markdown",
   "id": "8e8dc0ff-eda3-4a28-9a4d-6f79d89e5a0f",
   "metadata": {},
   "source": [
    "### stat functions "
   ]
  },
  {
   "cell_type": "code",
   "execution_count": 53,
   "id": "43c2dd19-f98a-492b-9128-43a8b25cb0f3",
   "metadata": {},
   "outputs": [],
   "source": [
    "#SAPLEMM"
   ]
  },
  {
   "cell_type": "code",
   "execution_count": 54,
   "id": "35949575-31b1-4a66-9471-ac9ee1de3566",
   "metadata": {},
   "outputs": [],
   "source": [
    "sqrt = np.sqrt(121)\n",
    "ab = np.abs(-14.3)# gives absolute value \n",
    "power = np.power(2,10)\n",
    "log = np.log(2)\n",
    "exp = np.exp([2,3])#e ki power pe chd jayenge ... we can also write (2) alone .. no need of sqr brackets then\n",
    "max = np.max(list3)\n",
    "min = np.min(list3)"
   ]
  },
  {
   "cell_type": "code",
   "execution_count": 55,
   "id": "9e99cdc4-1ec7-4609-9a11-5d2c4b31da90",
   "metadata": {},
   "outputs": [
    {
     "data": {
      "text/plain": [
       "11.0"
      ]
     },
     "execution_count": 55,
     "metadata": {},
     "output_type": "execute_result"
    }
   ],
   "source": [
    "sqrt\n"
   ]
  },
  {
   "cell_type": "code",
   "execution_count": 56,
   "id": "2664a9cd-0c9e-4ff1-92a9-a1e58a9f04c2",
   "metadata": {},
   "outputs": [
    {
     "data": {
      "text/plain": [
       "14.3"
      ]
     },
     "execution_count": 56,
     "metadata": {},
     "output_type": "execute_result"
    }
   ],
   "source": [
    "ab"
   ]
  },
  {
   "cell_type": "code",
   "execution_count": 57,
   "id": "bf66f25f-ddf4-48dd-b64f-163036d14e5f",
   "metadata": {},
   "outputs": [
    {
     "data": {
      "text/plain": [
       "1024"
      ]
     },
     "execution_count": 57,
     "metadata": {},
     "output_type": "execute_result"
    }
   ],
   "source": [
    "power"
   ]
  },
  {
   "cell_type": "code",
   "execution_count": 58,
   "id": "d9635da3-8b7b-462a-bb92-ddad20f38267",
   "metadata": {},
   "outputs": [
    {
     "data": {
      "text/plain": [
       "0.6931471805599453"
      ]
     },
     "execution_count": 58,
     "metadata": {},
     "output_type": "execute_result"
    }
   ],
   "source": [
    "log"
   ]
  },
  {
   "cell_type": "code",
   "execution_count": 59,
   "id": "6ceeaf32-9ac6-4d50-bb69-af543f4e5b3d",
   "metadata": {},
   "outputs": [
    {
     "data": {
      "text/plain": [
       "array([ 7.3890561 , 20.08553692])"
      ]
     },
     "execution_count": 59,
     "metadata": {},
     "output_type": "execute_result"
    }
   ],
   "source": [
    "exp"
   ]
  },
  {
   "cell_type": "code",
   "execution_count": 60,
   "id": "bc0c83f0-f616-406e-9202-f40bd41121d2",
   "metadata": {},
   "outputs": [
    {
     "data": {
      "text/plain": [
       "0.9738607633823805"
      ]
     },
     "execution_count": 60,
     "metadata": {},
     "output_type": "execute_result"
    }
   ],
   "source": [
    "max"
   ]
  },
  {
   "cell_type": "code",
   "execution_count": 61,
   "id": "3b54f2c0-5fe1-4c67-8641-dd3790fef7dd",
   "metadata": {},
   "outputs": [
    {
     "data": {
      "text/plain": [
       "0.33884452677003196"
      ]
     },
     "execution_count": 61,
     "metadata": {},
     "output_type": "execute_result"
    }
   ],
   "source": [
    "min\n"
   ]
  },
  {
   "cell_type": "code",
   "execution_count": 62,
   "id": "579bceb6-9e51-455b-b3db-9c2b660b6ad3",
   "metadata": {},
   "outputs": [
    {
     "data": {
      "text/plain": [
       "array([[[0.9536551 , 0.93967605, 0.44973898, 0.81353024],\n",
       "        [0.57064663, 0.33447805, 0.90354737, 0.45010933],\n",
       "        [0.03152413, 0.455515  , 0.90740407, 0.22462491]],\n",
       "\n",
       "       [[0.72856046, 0.19247705, 0.45122735, 0.63223205],\n",
       "        [0.71178105, 0.17476132, 0.78398367, 0.49292958],\n",
       "        [0.51071382, 0.9432377 , 0.68734849, 0.05277457]]])"
      ]
     },
     "execution_count": 62,
     "metadata": {},
     "output_type": "execute_result"
    }
   ],
   "source": [
    "data"
   ]
  },
  {
   "cell_type": "code",
   "execution_count": 63,
   "id": "66faf7af-8a11-498a-82c0-5cbf54a01bb0",
   "metadata": {},
   "outputs": [],
   "source": [
    "data[0][0][0] =700"
   ]
  },
  {
   "cell_type": "code",
   "execution_count": 64,
   "id": "82398720-10ba-4d46-85cf-1262359b12a4",
   "metadata": {},
   "outputs": [
    {
     "data": {
      "text/plain": [
       "array([[[7.00000000e+02, 9.39676051e-01, 4.49738980e-01, 8.13530243e-01],\n",
       "        [5.70646630e-01, 3.34478050e-01, 9.03547370e-01, 4.50109330e-01],\n",
       "        [3.15241343e-02, 4.55514996e-01, 9.07404071e-01, 2.24624909e-01]],\n",
       "\n",
       "       [[7.28560459e-01, 1.92477052e-01, 4.51227349e-01, 6.32232052e-01],\n",
       "        [7.11781052e-01, 1.74761320e-01, 7.83983670e-01, 4.92929584e-01],\n",
       "        [5.10713819e-01, 9.43237697e-01, 6.87348491e-01, 5.27745707e-02]]])"
      ]
     },
     "execution_count": 64,
     "metadata": {},
     "output_type": "execute_result"
    }
   ],
   "source": [
    "data"
   ]
  },
  {
   "cell_type": "code",
   "execution_count": 65,
   "id": "2edc7ad3-abf1-4bdc-8243-233e100d407c",
   "metadata": {},
   "outputs": [],
   "source": [
    "data.sort()"
   ]
  },
  {
   "cell_type": "code",
   "execution_count": 66,
   "id": "3a87a304-e45b-4285-a904-1e0399f0fa92",
   "metadata": {},
   "outputs": [
    {
     "data": {
      "text/plain": [
       "array([[[4.49738980e-01, 8.13530243e-01, 9.39676051e-01, 7.00000000e+02],\n",
       "        [3.34478050e-01, 4.50109330e-01, 5.70646630e-01, 9.03547370e-01],\n",
       "        [3.15241343e-02, 2.24624909e-01, 4.55514996e-01, 9.07404071e-01]],\n",
       "\n",
       "       [[1.92477052e-01, 4.51227349e-01, 6.32232052e-01, 7.28560459e-01],\n",
       "        [1.74761320e-01, 4.92929584e-01, 7.11781052e-01, 7.83983670e-01],\n",
       "        [5.27745707e-02, 5.10713819e-01, 6.87348491e-01, 9.43237697e-01]]])"
      ]
     },
     "execution_count": 66,
     "metadata": {},
     "output_type": "execute_result"
    }
   ],
   "source": [
    "data"
   ]
  },
  {
   "cell_type": "code",
   "execution_count": 67,
   "id": "8993bc38-49f3-4bab-bd30-90bc437d0e51",
   "metadata": {},
   "outputs": [
    {
     "name": "stdout",
     "output_type": "stream",
     "text": [
      "(2, 3, 4)\n"
     ]
    }
   ],
   "source": [
    "print(data.shape)"
   ]
  },
  {
   "cell_type": "code",
   "execution_count": 68,
   "id": "738c2477-a7cb-437e-b4f8-fbb07c2fd01d",
   "metadata": {},
   "outputs": [],
   "source": [
    "data = data.reshape (2,2,-1) # we wrote -1 cz we want the number of column to be random ... it'll select automatically"
   ]
  },
  {
   "cell_type": "code",
   "execution_count": 69,
   "id": "b251ed2a-9814-45c0-abab-3b6771b4c60e",
   "metadata": {},
   "outputs": [
    {
     "data": {
      "text/plain": [
       "array([[[4.49738980e-01, 8.13530243e-01, 9.39676051e-01, 7.00000000e+02,\n",
       "         3.34478050e-01, 4.50109330e-01],\n",
       "        [5.70646630e-01, 9.03547370e-01, 3.15241343e-02, 2.24624909e-01,\n",
       "         4.55514996e-01, 9.07404071e-01]],\n",
       "\n",
       "       [[1.92477052e-01, 4.51227349e-01, 6.32232052e-01, 7.28560459e-01,\n",
       "         1.74761320e-01, 4.92929584e-01],\n",
       "        [7.11781052e-01, 7.83983670e-01, 5.27745707e-02, 5.10713819e-01,\n",
       "         6.87348491e-01, 9.43237697e-01]]])"
      ]
     },
     "execution_count": 69,
     "metadata": {},
     "output_type": "execute_result"
    }
   ],
   "source": [
    "data"
   ]
  },
  {
   "cell_type": "code",
   "execution_count": 70,
   "id": "c82c4b7b-55a5-4316-aed9-760381783792",
   "metadata": {},
   "outputs": [
    {
     "data": {
      "text/plain": [
       "(2, 2, 6)"
      ]
     },
     "execution_count": 70,
     "metadata": {},
     "output_type": "execute_result"
    }
   ],
   "source": [
    "data.shape"
   ]
  },
  {
   "cell_type": "code",
   "execution_count": 71,
   "id": "900defa6-48ed-4852-9b27-6d296445e14d",
   "metadata": {},
   "outputs": [],
   "source": [
    "zeroes = np.zeros(10)"
   ]
  },
  {
   "cell_type": "code",
   "execution_count": 72,
   "id": "f90ce4a4-c3f4-4953-aab8-ae83bb9f0d61",
   "metadata": {},
   "outputs": [
    {
     "data": {
      "text/plain": [
       "array([0., 0., 0., 0., 0., 0., 0., 0., 0., 0.])"
      ]
     },
     "execution_count": 72,
     "metadata": {},
     "output_type": "execute_result"
    }
   ],
   "source": [
    "zeroes"
   ]
  },
  {
   "cell_type": "code",
   "execution_count": 73,
   "id": "99a27605-7df9-4652-a9d1-ccefab57a7cc",
   "metadata": {},
   "outputs": [],
   "source": [
    "zero_app = np.append ( zeroes , [3,4,5])"
   ]
  },
  {
   "cell_type": "code",
   "execution_count": 74,
   "id": "53ed7d00-83bd-4380-bf03-04ad84a10a98",
   "metadata": {},
   "outputs": [
    {
     "data": {
      "text/plain": [
       "array([0., 0., 0., 0., 0., 0., 0., 0., 0., 0., 3., 4., 5.])"
      ]
     },
     "execution_count": 74,
     "metadata": {},
     "output_type": "execute_result"
    }
   ],
   "source": [
    "zero_app"
   ]
  },
  {
   "cell_type": "raw",
   "id": "d27e0d0d-34c8-4311-8b69-e3196b8b6d63",
   "metadata": {},
   "source": [
    "zeroes = np.insert( zeroes , 2,1) # it'll add 1 at index 2 "
   ]
  },
  {
   "cell_type": "code",
   "execution_count": 75,
   "id": "78a54980-f370-459a-9e60-195fbeb9a2dc",
   "metadata": {},
   "outputs": [
    {
     "data": {
      "text/plain": [
       "array([0., 0., 0., 0., 0., 0., 0., 0., 0., 0.])"
      ]
     },
     "execution_count": 75,
     "metadata": {},
     "output_type": "execute_result"
    }
   ],
   "source": [
    "zeroes"
   ]
  },
  {
   "cell_type": "markdown",
   "id": "54d1157d-ff8d-46da-b98d-daf1dfc3f809",
   "metadata": {},
   "source": [
    "# **Delete** "
   ]
  },
  {
   "cell_type": "code",
   "execution_count": 76,
   "id": "fa2075be-d03c-40e4-90da-9b35604299ad",
   "metadata": {},
   "outputs": [
    {
     "data": {
      "text/plain": [
       "array([[[4.49738980e-01, 8.13530243e-01, 9.39676051e-01, 7.00000000e+02,\n",
       "         3.34478050e-01, 4.50109330e-01],\n",
       "        [5.70646630e-01, 9.03547370e-01, 3.15241343e-02, 2.24624909e-01,\n",
       "         4.55514996e-01, 9.07404071e-01]],\n",
       "\n",
       "       [[1.92477052e-01, 4.51227349e-01, 6.32232052e-01, 7.28560459e-01,\n",
       "         1.74761320e-01, 4.92929584e-01],\n",
       "        [7.11781052e-01, 7.83983670e-01, 5.27745707e-02, 5.10713819e-01,\n",
       "         6.87348491e-01, 9.43237697e-01]]])"
      ]
     },
     "execution_count": 76,
     "metadata": {},
     "output_type": "execute_result"
    }
   ],
   "source": [
    "data "
   ]
  },
  {
   "cell_type": "code",
   "execution_count": 77,
   "id": "7697d190-dd18-4ce3-acd7-0c5c85cf9f21",
   "metadata": {},
   "outputs": [
    {
     "data": {
      "text/plain": [
       "array([[[0.57064663, 0.90354737, 0.03152413, 0.22462491, 0.455515  ,\n",
       "         0.90740407]],\n",
       "\n",
       "       [[0.71178105, 0.78398367, 0.05277457, 0.51071382, 0.68734849,\n",
       "         0.9432377 ]]])"
      ]
     },
     "execution_count": 77,
     "metadata": {},
     "output_type": "execute_result"
    }
   ],
   "source": [
    "np.delete (data , 0, axis = 1 )"
   ]
  },
  {
   "cell_type": "code",
   "execution_count": 95,
   "id": "a2e89211-bc8e-4797-bf12-707aa51d20cc",
   "metadata": {},
   "outputs": [],
   "source": [
    "newData = np.random.randint(0,9,8) #this will give me integer number array where 0,8 means the range of elements .. \n",
    "                                   # and 8 means the count of array \n"
   ]
  },
  {
   "cell_type": "code",
   "execution_count": 81,
   "id": "94f682af-85d4-4c23-beea-0c323bce5c21",
   "metadata": {},
   "outputs": [
    {
     "data": {
      "text/plain": [
       "array([6, 6, 0, 3, 6, 2, 2, 0])"
      ]
     },
     "execution_count": 81,
     "metadata": {},
     "output_type": "execute_result"
    }
   ],
   "source": [
    "newData"
   ]
  },
  {
   "cell_type": "code",
   "execution_count": 82,
   "id": "a50a131b-58dd-4c69-93f2-5f40909f2618",
   "metadata": {},
   "outputs": [],
   "source": [
    "newData = newData.reshape ( 2,4)"
   ]
  },
  {
   "cell_type": "code",
   "execution_count": 83,
   "id": "af60f376-38dc-468d-b475-5ddd72c79a44",
   "metadata": {},
   "outputs": [
    {
     "data": {
      "text/plain": [
       "array([[6, 6, 0, 3],\n",
       "       [6, 2, 2, 0]])"
      ]
     },
     "execution_count": 83,
     "metadata": {},
     "output_type": "execute_result"
    }
   ],
   "source": [
    "newData"
   ]
  },
  {
   "cell_type": "code",
   "execution_count": 88,
   "id": "3ffa635c-1595-4b2e-9758-f2ab403ec4d2",
   "metadata": {},
   "outputs": [],
   "source": [
    "newData = np.random.randint( 0,10 ,[4,4])"
   ]
  },
  {
   "cell_type": "code",
   "execution_count": 89,
   "id": "ea0ca54d-05aa-4cbd-a48b-0a6152bcc45d",
   "metadata": {},
   "outputs": [
    {
     "data": {
      "text/plain": [
       "array([[3, 7, 4, 8],\n",
       "       [2, 5, 5, 0],\n",
       "       [2, 1, 1, 4],\n",
       "       [1, 2, 7, 5]])"
      ]
     },
     "execution_count": 89,
     "metadata": {},
     "output_type": "execute_result"
    }
   ],
   "source": [
    "newData"
   ]
  },
  {
   "cell_type": "code",
   "execution_count": 91,
   "id": "4117bf8f-32ba-4d5b-9d64-df14135b314f",
   "metadata": {},
   "outputs": [],
   "source": [
    "newData = np.delete (newData , 2, axis = 1)"
   ]
  },
  {
   "cell_type": "code",
   "execution_count": 92,
   "id": "802350a3-4606-4ccf-9197-9075272cc554",
   "metadata": {},
   "outputs": [
    {
     "data": {
      "text/plain": [
       "array([[3, 7, 8],\n",
       "       [2, 5, 0],\n",
       "       [2, 1, 4],\n",
       "       [1, 2, 5]])"
      ]
     },
     "execution_count": 92,
     "metadata": {},
     "output_type": "execute_result"
    }
   ],
   "source": [
    "newData"
   ]
  },
  {
   "cell_type": "code",
   "execution_count": 96,
   "id": "f9da6e50-1023-48cf-92a5-d442ed9969a3",
   "metadata": {},
   "outputs": [],
   "source": [
    "np.save(\"Numpy_work\", data)"
   ]
  },
  {
   "cell_type": "code",
   "execution_count": 98,
   "id": "3e23d48f-8c3b-4198-9b4b-b05a3f818592",
   "metadata": {},
   "outputs": [
    {
     "ename": "FileNotFoundError",
     "evalue": "[Errno 2] No such file or directory: 'Numpy_work.npy'",
     "output_type": "error",
     "traceback": [
      "\u001b[0;31m---------------------------------------------------------------------------\u001b[0m",
      "\u001b[0;31mFileNotFoundError\u001b[0m                         Traceback (most recent call last)",
      "Cell \u001b[0;32mIn[98], line 1\u001b[0m\n\u001b[0;32m----> 1\u001b[0m test \u001b[38;5;241m=\u001b[39m \u001b[43mnp\u001b[49m\u001b[38;5;241;43m.\u001b[39;49m\u001b[43mload\u001b[49m\u001b[43m \u001b[49m\u001b[43m(\u001b[49m\u001b[38;5;124;43m\"\u001b[39;49m\u001b[38;5;124;43mNumpy_work.npy\u001b[39;49m\u001b[38;5;124;43m\"\u001b[39;49m\u001b[43m)\u001b[49m\n",
      "File \u001b[0;32m/usr/lib64/python3.12/site-packages/numpy/lib/npyio.py:427\u001b[0m, in \u001b[0;36mload\u001b[0;34m(file, mmap_mode, allow_pickle, fix_imports, encoding, max_header_size)\u001b[0m\n\u001b[1;32m    425\u001b[0m     own_fid \u001b[38;5;241m=\u001b[39m \u001b[38;5;28;01mFalse\u001b[39;00m\n\u001b[1;32m    426\u001b[0m \u001b[38;5;28;01melse\u001b[39;00m:\n\u001b[0;32m--> 427\u001b[0m     fid \u001b[38;5;241m=\u001b[39m stack\u001b[38;5;241m.\u001b[39menter_context(\u001b[38;5;28;43mopen\u001b[39;49m\u001b[43m(\u001b[49m\u001b[43mos_fspath\u001b[49m\u001b[43m(\u001b[49m\u001b[43mfile\u001b[49m\u001b[43m)\u001b[49m\u001b[43m,\u001b[49m\u001b[43m \u001b[49m\u001b[38;5;124;43m\"\u001b[39;49m\u001b[38;5;124;43mrb\u001b[39;49m\u001b[38;5;124;43m\"\u001b[39;49m\u001b[43m)\u001b[49m)\n\u001b[1;32m    428\u001b[0m     own_fid \u001b[38;5;241m=\u001b[39m \u001b[38;5;28;01mTrue\u001b[39;00m\n\u001b[1;32m    430\u001b[0m \u001b[38;5;66;03m# Code to distinguish from NumPy binary files and pickles.\u001b[39;00m\n",
      "\u001b[0;31mFileNotFoundError\u001b[0m: [Errno 2] No such file or directory: 'Numpy_work.npy'"
     ]
    }
   ],
   "source": [
    "test = np.load (\"Numpy_work.npy\")"
   ]
  },
  {
   "cell_type": "code",
   "execution_count": null,
   "id": "4cddaf6d-742a-4cc0-9cf7-ff3f8b9fe761",
   "metadata": {},
   "outputs": [],
   "source": []
  }
 ],
 "metadata": {
  "kernelspec": {
   "display_name": "Python 3 (ipykernel)",
   "language": "python",
   "name": "python3"
  },
  "language_info": {
   "codemirror_mode": {
    "name": "ipython",
    "version": 3
   },
   "file_extension": ".py",
   "mimetype": "text/x-python",
   "name": "python",
   "nbconvert_exporter": "python",
   "pygments_lexer": "ipython3",
   "version": "3.12.9"
  }
 },
 "nbformat": 4,
 "nbformat_minor": 5
}
