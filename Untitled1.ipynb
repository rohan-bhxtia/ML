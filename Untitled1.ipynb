{
 "cells": [
  {
   "cell_type": "markdown",
   "id": "37ce8368-5629-45a8-b14b-253bc284d74d",
   "metadata": {},
   "source": [
    "# _**CREATE**_"
   ]
  },
  {
   "cell_type": "code",
   "execution_count": 1,
   "id": "e9a16cb1-e29a-458b-b5a1-e720d42107b1",
   "metadata": {},
   "outputs": [],
   "source": [
    "import numpy as np"
   ]
  },
  {
   "cell_type": "code",
   "execution_count": 2,
   "id": "319ea6e2-c9f4-4555-b89e-dcc51f09e7b9",
   "metadata": {},
   "outputs": [],
   "source": [
    "data = np.random.rand(2,3,4,)"
   ]
  },
  {
   "cell_type": "code",
   "execution_count": 3,
   "id": "92b25ef8-ae96-4ae9-8975-8197d526f327",
   "metadata": {},
   "outputs": [
    {
     "data": {
      "text/plain": [
       "array([[[0.93397205, 0.86342815, 0.74150268, 0.57924449],\n",
       "        [0.28912547, 0.3077231 , 0.16326182, 0.75525178],\n",
       "        [0.84661239, 0.02672863, 0.09926426, 0.0583858 ]],\n",
       "\n",
       "       [[0.94702432, 0.1131226 , 0.11514526, 0.16870006],\n",
       "        [0.86566205, 0.52561076, 0.57730997, 0.7019841 ],\n",
       "        [0.61691742, 0.03580302, 0.60318288, 0.14377189]]])"
      ]
     },
     "execution_count": 3,
     "metadata": {},
     "output_type": "execute_result"
    }
   ],
   "source": [
    "data\n"
   ]
  },
  {
   "cell_type": "code",
   "execution_count": 4,
   "id": "0c923f40-abaa-45b5-903a-f21034cd47f2",
   "metadata": {},
   "outputs": [],
   "source": [
    "zeroes = np.zeros((2,3,4))"
   ]
  },
  {
   "cell_type": "code",
   "execution_count": 5,
   "id": "1ba8fc17-f415-4ebf-ac5c-b9f3ac60cab8",
   "metadata": {},
   "outputs": [
    {
     "data": {
      "text/plain": [
       "array([[[0., 0., 0., 0.],\n",
       "        [0., 0., 0., 0.],\n",
       "        [0., 0., 0., 0.]],\n",
       "\n",
       "       [[0., 0., 0., 0.],\n",
       "        [0., 0., 0., 0.],\n",
       "        [0., 0., 0., 0.]]])"
      ]
     },
     "execution_count": 5,
     "metadata": {},
     "output_type": "execute_result"
    }
   ],
   "source": [
    "zeroes\n"
   ]
  },
  {
   "cell_type": "code",
   "execution_count": 6,
   "id": "62c7d259-bb9b-4ed9-bbf1-fd3709050b7c",
   "metadata": {},
   "outputs": [],
   "source": [
    "full = np.full ((2,3,4),7)"
   ]
  },
  {
   "cell_type": "markdown",
   "id": "db198656-c2e4-4b7e-94e4-05fc9fb15683",
   "metadata": {},
   "source": [
    "full"
   ]
  },
  {
   "cell_type": "code",
   "execution_count": 7,
   "id": "e76a61a6-fb40-4b05-8005-2fa9fade90ce",
   "metadata": {},
   "outputs": [],
   "source": [
    "ones = np.ones((2,3,4))"
   ]
  },
  {
   "cell_type": "code",
   "execution_count": 8,
   "id": "0e7a9446-9cd6-4339-a89d-2f89b6ac8f5f",
   "metadata": {},
   "outputs": [
    {
     "data": {
      "text/plain": [
       "array([[[1., 1., 1., 1.],\n",
       "        [1., 1., 1., 1.],\n",
       "        [1., 1., 1., 1.]],\n",
       "\n",
       "       [[1., 1., 1., 1.],\n",
       "        [1., 1., 1., 1.],\n",
       "        [1., 1., 1., 1.]]])"
      ]
     },
     "execution_count": 8,
     "metadata": {},
     "output_type": "execute_result"
    }
   ],
   "source": [
    "ones"
   ]
  },
  {
   "cell_type": "markdown",
   "id": "7f7a36ca-7ddf-4236-8398-12653d6aaf75",
   "metadata": {},
   "source": [
    "### _creating array_ "
   ]
  },
  {
   "cell_type": "code",
   "execution_count": 9,
   "id": "96ebd03a-f957-41e0-9fe5-aef11192c18f",
   "metadata": {},
   "outputs": [],
   "source": [
    "array = np.array ([[1,2,3,4],[5,6,7,8],[9,10,11,12]])"
   ]
  },
  {
   "cell_type": "code",
   "execution_count": 10,
   "id": "b4401284-4cc8-450c-b76b-cff1c0dfddab",
   "metadata": {},
   "outputs": [
    {
     "data": {
      "text/plain": [
       "array([[ 1,  2,  3,  4],\n",
       "       [ 5,  6,  7,  8],\n",
       "       [ 9, 10, 11, 12]])"
      ]
     },
     "execution_count": 10,
     "metadata": {},
     "output_type": "execute_result"
    }
   ],
   "source": [
    "array"
   ]
  },
  {
   "cell_type": "markdown",
   "id": "697e8f27-fd43-48c8-b7cc-0d9fb9856cfe",
   "metadata": {},
   "source": [
    "# _**READ**_ "
   ]
  },
  {
   "cell_type": "code",
   "execution_count": 11,
   "id": "2c8752ed-3a40-4fba-9c83-1000a4aaf4c7",
   "metadata": {},
   "outputs": [],
   "source": [
    "#ATTRIBUTES "
   ]
  },
  {
   "cell_type": "code",
   "execution_count": 12,
   "id": "62a729d8-b2d3-4342-8d97-c62d7b8f34c4",
   "metadata": {},
   "outputs": [],
   "source": [
    "shape = data.shape"
   ]
  },
  {
   "cell_type": "code",
   "execution_count": 13,
   "id": "6ed9b5a3-876d-40fd-a2a4-01e2f152fa43",
   "metadata": {},
   "outputs": [],
   "source": [
    "size = data.size"
   ]
  },
  {
   "cell_type": "code",
   "execution_count": 14,
   "id": "b98ea54c-0d31-4e03-a91a-ee8761880c33",
   "metadata": {},
   "outputs": [],
   "source": [
    "type = data.dtype"
   ]
  },
  {
   "cell_type": "code",
   "execution_count": 15,
   "id": "9f21531f-d97e-48ce-9c83-ad15a4f85c33",
   "metadata": {},
   "outputs": [
    {
     "data": {
      "text/plain": [
       "(2, 3, 4)"
      ]
     },
     "execution_count": 15,
     "metadata": {},
     "output_type": "execute_result"
    }
   ],
   "source": [
    "shape "
   ]
  },
  {
   "cell_type": "code",
   "execution_count": 16,
   "id": "2e0f32e1-559d-46ef-8130-a263117d55b2",
   "metadata": {},
   "outputs": [
    {
     "data": {
      "text/plain": [
       "24"
      ]
     },
     "execution_count": 16,
     "metadata": {},
     "output_type": "execute_result"
    }
   ],
   "source": [
    "size"
   ]
  },
  {
   "cell_type": "code",
   "execution_count": 17,
   "id": "e22d8ece-5e90-4e9c-bbaf-e6f4152cf247",
   "metadata": {},
   "outputs": [
    {
     "data": {
      "text/plain": [
       "dtype('float64')"
      ]
     },
     "execution_count": 17,
     "metadata": {},
     "output_type": "execute_result"
    }
   ],
   "source": [
    "type "
   ]
  },
  {
   "cell_type": "code",
   "execution_count": 18,
   "id": "bd4bb04e-6f25-46a5-81fc-2ed945b7ac76",
   "metadata": {},
   "outputs": [],
   "source": [
    "#SLICING "
   ]
  },
  {
   "cell_type": "code",
   "execution_count": 19,
   "id": "2125d770-8d83-43a5-bd03-d7e70b2b5bec",
   "metadata": {},
   "outputs": [],
   "source": [
    "arr = data[0]"
   ]
  },
  {
   "cell_type": "code",
   "execution_count": 20,
   "id": "a797f198-0492-4e89-a9b8-1cc30eb2c046",
   "metadata": {},
   "outputs": [
    {
     "data": {
      "text/plain": [
       "array([[0.93397205, 0.86342815, 0.74150268, 0.57924449],\n",
       "       [0.28912547, 0.3077231 , 0.16326182, 0.75525178],\n",
       "       [0.84661239, 0.02672863, 0.09926426, 0.0583858 ]])"
      ]
     },
     "execution_count": 20,
     "metadata": {},
     "output_type": "execute_result"
    }
   ],
   "source": [
    "arr"
   ]
  },
  {
   "cell_type": "code",
   "execution_count": 21,
   "id": "e1d7b37d-b14a-4fb4-b7df-92e16a27695b",
   "metadata": {},
   "outputs": [],
   "source": [
    "arr = data[1]"
   ]
  },
  {
   "cell_type": "code",
   "execution_count": 22,
   "id": "efa50454-9cb3-4e3f-97f0-d036f451bef8",
   "metadata": {},
   "outputs": [
    {
     "data": {
      "text/plain": [
       "array([[0.94702432, 0.1131226 , 0.11514526, 0.16870006],\n",
       "       [0.86566205, 0.52561076, 0.57730997, 0.7019841 ],\n",
       "       [0.61691742, 0.03580302, 0.60318288, 0.14377189]])"
      ]
     },
     "execution_count": 22,
     "metadata": {},
     "output_type": "execute_result"
    }
   ],
   "source": [
    "arr"
   ]
  },
  {
   "cell_type": "code",
   "execution_count": 23,
   "id": "1e4b63c4-83fe-42c2-bd1d-5dc087d82bfd",
   "metadata": {},
   "outputs": [],
   "source": [
    "arr = data[0:2]"
   ]
  },
  {
   "cell_type": "code",
   "execution_count": 24,
   "id": "9721dc60-fe1b-425c-ba58-c1653239c84c",
   "metadata": {},
   "outputs": [
    {
     "data": {
      "text/plain": [
       "array([[[0.93397205, 0.86342815, 0.74150268, 0.57924449],\n",
       "        [0.28912547, 0.3077231 , 0.16326182, 0.75525178],\n",
       "        [0.84661239, 0.02672863, 0.09926426, 0.0583858 ]],\n",
       "\n",
       "       [[0.94702432, 0.1131226 , 0.11514526, 0.16870006],\n",
       "        [0.86566205, 0.52561076, 0.57730997, 0.7019841 ],\n",
       "        [0.61691742, 0.03580302, 0.60318288, 0.14377189]]])"
      ]
     },
     "execution_count": 24,
     "metadata": {},
     "output_type": "execute_result"
    }
   ],
   "source": [
    "arr"
   ]
  },
  {
   "cell_type": "code",
   "execution_count": 25,
   "id": "8a9b582b-0215-4a6a-8a20-80f8fd96fbae",
   "metadata": {},
   "outputs": [],
   "source": [
    "slicer = data[0:2]"
   ]
  },
  {
   "cell_type": "code",
   "execution_count": 26,
   "id": "b932dcea-0809-44eb-8629-6b89cca94cb1",
   "metadata": {},
   "outputs": [
    {
     "data": {
      "text/plain": [
       "array([[[0.93397205, 0.86342815, 0.74150268, 0.57924449],\n",
       "        [0.28912547, 0.3077231 , 0.16326182, 0.75525178],\n",
       "        [0.84661239, 0.02672863, 0.09926426, 0.0583858 ]],\n",
       "\n",
       "       [[0.94702432, 0.1131226 , 0.11514526, 0.16870006],\n",
       "        [0.86566205, 0.52561076, 0.57730997, 0.7019841 ],\n",
       "        [0.61691742, 0.03580302, 0.60318288, 0.14377189]]])"
      ]
     },
     "execution_count": 26,
     "metadata": {},
     "output_type": "execute_result"
    }
   ],
   "source": [
    "slicer"
   ]
  },
  {
   "cell_type": "code",
   "execution_count": 27,
   "id": "0ba37c0b-0bd0-411a-8511-e0d0080392fe",
   "metadata": {},
   "outputs": [],
   "source": [
    "reverse = data[-1]"
   ]
  },
  {
   "cell_type": "code",
   "execution_count": 28,
   "id": "718d3315-dea4-4b58-9c27-f567ab87dd1f",
   "metadata": {},
   "outputs": [
    {
     "data": {
      "text/plain": [
       "array([[0.94702432, 0.1131226 , 0.11514526, 0.16870006],\n",
       "       [0.86566205, 0.52561076, 0.57730997, 0.7019841 ],\n",
       "       [0.61691742, 0.03580302, 0.60318288, 0.14377189]])"
      ]
     },
     "execution_count": 28,
     "metadata": {},
     "output_type": "execute_result"
    }
   ],
   "source": [
    "reverse"
   ]
  },
  {
   "cell_type": "code",
   "execution_count": 29,
   "id": "e3b6df03-6b8a-443d-8108-05170d45bfd1",
   "metadata": {},
   "outputs": [],
   "source": [
    " single_value = data[1][2][2]"
   ]
  },
  {
   "cell_type": "code",
   "execution_count": 30,
   "id": "dcb449d8-1fa6-4d9b-85e5-4f71adad3600",
   "metadata": {
    "jupyter": {
     "source_hidden": true
    }
   },
   "outputs": [
    {
     "data": {
      "text/plain": [
       "0.6031828846405116"
      ]
     },
     "execution_count": 30,
     "metadata": {},
     "output_type": "execute_result"
    }
   ],
   "source": [
    "single_value"
   ]
  },
  {
   "cell_type": "markdown",
   "id": "5097afb6-9475-4f93-97a5-06d2c30615ac",
   "metadata": {},
   "source": [
    "# _**UPDATE**_"
   ]
  },
  {
   "cell_type": "code",
   "execution_count": 31,
   "id": "0db3b0ec-4da1-4beb-8475-db38422e263c",
   "metadata": {},
   "outputs": [],
   "source": [
    "list1 = np.random.rand(10)"
   ]
  },
  {
   "cell_type": "code",
   "execution_count": 32,
   "id": "fc9be949-8800-4111-b095-aa812f3ae811",
   "metadata": {},
   "outputs": [
    {
     "data": {
      "text/plain": [
       "array([0.21083071, 0.86206047, 0.54452553, 0.72325221, 0.38499994,\n",
       "       0.15578659, 0.62274402, 0.97255185, 0.58378795, 0.28894866])"
      ]
     },
     "execution_count": 32,
     "metadata": {},
     "output_type": "execute_result"
    }
   ],
   "source": [
    "list1"
   ]
  },
  {
   "cell_type": "code",
   "execution_count": 33,
   "id": "6a61648b-3f9d-48f9-a8c3-5d0d306b9b5b",
   "metadata": {},
   "outputs": [],
   "source": [
    " #basic maths  "
   ]
  },
  {
   "cell_type": "code",
   "execution_count": 34,
   "id": "c34916fa-3691-4b48-b4af-d470377bb4e7",
   "metadata": {},
   "outputs": [],
   "source": [
    "add = np.add(list1 , 2 )"
   ]
  },
  {
   "cell_type": "code",
   "execution_count": 35,
   "id": "5add9850-2e84-41f8-8e1a-640d231209d1",
   "metadata": {},
   "outputs": [
    {
     "data": {
      "text/plain": [
       "array([2.21083071, 2.86206047, 2.54452553, 2.72325221, 2.38499994,\n",
       "       2.15578659, 2.62274402, 2.97255185, 2.58378795, 2.28894866])"
      ]
     },
     "execution_count": 35,
     "metadata": {},
     "output_type": "execute_result"
    }
   ],
   "source": [
    "add"
   ]
  },
  {
   "cell_type": "code",
   "execution_count": 36,
   "id": "89a91d39-d8c9-4b36-9906-f8c753422ad8",
   "metadata": {},
   "outputs": [],
   "source": [
    "subtract = np.subtract (list1 , 2)"
   ]
  },
  {
   "cell_type": "code",
   "execution_count": 37,
   "id": "39913743-d8f5-4002-b964-03c288cf699d",
   "metadata": {},
   "outputs": [
    {
     "data": {
      "text/plain": [
       "array([-1.78916929, -1.13793953, -1.45547447, -1.27674779, -1.61500006,\n",
       "       -1.84421341, -1.37725598, -1.02744815, -1.41621205, -1.71105134])"
      ]
     },
     "execution_count": 37,
     "metadata": {},
     "output_type": "execute_result"
    }
   ],
   "source": [
    "subtract"
   ]
  },
  {
   "cell_type": "code",
   "execution_count": 38,
   "id": "988629f6-cab3-49e1-8595-9593f3d79e06",
   "metadata": {},
   "outputs": [],
   "source": [
    "list2 = list1. reshape( 5,2)"
   ]
  },
  {
   "cell_type": "code",
   "execution_count": 39,
   "id": "c13e7b11-5adb-4a4c-84c7-2d641a6a8670",
   "metadata": {},
   "outputs": [
    {
     "data": {
      "text/plain": [
       "array([[0.21083071, 0.86206047],\n",
       "       [0.54452553, 0.72325221],\n",
       "       [0.38499994, 0.15578659],\n",
       "       [0.62274402, 0.97255185],\n",
       "       [0.58378795, 0.28894866]])"
      ]
     },
     "execution_count": 39,
     "metadata": {},
     "output_type": "execute_result"
    }
   ],
   "source": [
    "list2"
   ]
  },
  {
   "cell_type": "code",
   "execution_count": 40,
   "id": "db84ba13-73a6-45eb-99cf-f3f44b75cdbd",
   "metadata": {},
   "outputs": [],
   "source": [
    "list2 = list2.reshape ( 1,10)"
   ]
  },
  {
   "cell_type": "code",
   "execution_count": 41,
   "id": "ed96e366-0e98-4c1d-be1c-713f2980303d",
   "metadata": {},
   "outputs": [
    {
     "data": {
      "text/plain": [
       "array([[0.21083071, 0.86206047, 0.54452553, 0.72325221, 0.38499994,\n",
       "        0.15578659, 0.62274402, 0.97255185, 0.58378795, 0.28894866]])"
      ]
     },
     "execution_count": 41,
     "metadata": {},
     "output_type": "execute_result"
    }
   ],
   "source": [
    "list2"
   ]
  },
  {
   "cell_type": "code",
   "execution_count": 42,
   "id": "a10c7c01-a75c-432e-8b90-564be94cf20e",
   "metadata": {},
   "outputs": [],
   "source": [
    "sub = np.subtract ( list1 , list2)"
   ]
  },
  {
   "cell_type": "code",
   "execution_count": 43,
   "id": "d59a6015-4ed2-416e-81ea-42c22cdc3e59",
   "metadata": {},
   "outputs": [
    {
     "data": {
      "text/plain": [
       "array([[0., 0., 0., 0., 0., 0., 0., 0., 0., 0.]])"
      ]
     },
     "execution_count": 43,
     "metadata": {},
     "output_type": "execute_result"
    }
   ],
   "source": [
    "sub"
   ]
  },
  {
   "cell_type": "code",
   "execution_count": 44,
   "id": "6bed86a8-e080-45ea-ad61-3cb539650984",
   "metadata": {},
   "outputs": [],
   "source": [
    "list3 = np.random.rand(10)\n"
   ]
  },
  {
   "cell_type": "code",
   "execution_count": 45,
   "id": "d2f4eb95-dcb8-4035-a1fd-9ca354e5ba17",
   "metadata": {},
   "outputs": [
    {
     "data": {
      "text/plain": [
       "array([0.22530156, 0.81503131, 0.45058677, 0.49649232, 0.76256563,\n",
       "       0.10206849, 0.73811496, 0.90185041, 0.13477149, 0.32313057])"
      ]
     },
     "execution_count": 45,
     "metadata": {},
     "output_type": "execute_result"
    }
   ],
   "source": [
    "list3"
   ]
  },
  {
   "cell_type": "code",
   "execution_count": 46,
   "id": "64c44036-2563-4c6d-a47c-d8b0fa3d25ff",
   "metadata": {},
   "outputs": [],
   "source": [
    "dot = np.dot ( list1 , list3)"
   ]
  },
  {
   "cell_type": "code",
   "execution_count": 47,
   "id": "9d7aac12-53d0-4931-8501-57da35816280",
   "metadata": {},
   "outputs": [
    {
     "data": {
      "text/plain": [
       "3.172839621910925"
      ]
     },
     "execution_count": 47,
     "metadata": {},
     "output_type": "execute_result"
    }
   ],
   "source": [
    "dot\n"
   ]
  },
  {
   "cell_type": "code",
   "execution_count": 48,
   "id": "c0eb27a8-a6d5-427e-8da8-deabb328791f",
   "metadata": {},
   "outputs": [],
   "source": [
    "list1 = list1.reshape (2,5)\n",
    "list3 = list3.reshape (5,2)"
   ]
  },
  {
   "cell_type": "code",
   "execution_count": 49,
   "id": "e04362c9-3202-4936-b3dd-49b8c7878247",
   "metadata": {},
   "outputs": [
    {
     "data": {
      "text/plain": [
       "array([[0.21083071, 0.86206047, 0.54452553, 0.72325221, 0.38499994],\n",
       "       [0.15578659, 0.62274402, 0.97255185, 0.58378795, 0.28894866]])"
      ]
     },
     "execution_count": 49,
     "metadata": {},
     "output_type": "execute_result"
    }
   ],
   "source": [
    "list1"
   ]
  },
  {
   "cell_type": "code",
   "execution_count": 50,
   "id": "80193c2e-fb1c-4dcd-b9e1-b593b682ed0b",
   "metadata": {},
   "outputs": [
    {
     "data": {
      "text/plain": [
       "array([[0.22530156, 0.81503131],\n",
       "       [0.45058677, 0.49649232],\n",
       "       [0.76256563, 0.10206849],\n",
       "       [0.73811496, 0.90185041],\n",
       "       [0.13477149, 0.32313057]])"
      ]
     },
     "execution_count": 50,
     "metadata": {},
     "output_type": "execute_result"
    }
   ],
   "source": [
    "list3"
   ]
  },
  {
   "cell_type": "code",
   "execution_count": 51,
   "id": "6ac63e44-0e34-4c7b-bec2-2d7fb02cbe3a",
   "metadata": {},
   "outputs": [],
   "source": [
    "dot = np.dot ( list1 , list3)"
   ]
  },
  {
   "cell_type": "code",
   "execution_count": 52,
   "id": "8f14bb40-71ee-4126-825d-959609865aa3",
   "metadata": {},
   "outputs": [
    {
     "data": {
      "text/plain": [
       "array([[1.43690027, 1.43208948],\n",
       "       [1.52717845, 1.15528302]])"
      ]
     },
     "execution_count": 52,
     "metadata": {},
     "output_type": "execute_result"
    }
   ],
   "source": [
    "dot"
   ]
  },
  {
   "cell_type": "markdown",
   "id": "8e8dc0ff-eda3-4a28-9a4d-6f79d89e5a0f",
   "metadata": {},
   "source": [
    "### stat functions "
   ]
  },
  {
   "cell_type": "code",
   "execution_count": 53,
   "id": "43c2dd19-f98a-492b-9128-43a8b25cb0f3",
   "metadata": {},
   "outputs": [],
   "source": [
    "#SAPLEMM"
   ]
  },
  {
   "cell_type": "code",
   "execution_count": 54,
   "id": "35949575-31b1-4a66-9471-ac9ee1de3566",
   "metadata": {},
   "outputs": [],
   "source": [
    "sqrt = np.sqrt(121)\n",
    "ab = np.abs(-14.3)# gives absolute value \n",
    "power = np.power(2,10)\n",
    "log = np.log(2)\n",
    "exp = np.exp([2,3])#e ki power pe chd jayenge ... we can also write (2) alone .. no need of sqr brackets then\n",
    "max = np.max(list3)\n",
    "min = np.min(list3)"
   ]
  },
  {
   "cell_type": "code",
   "execution_count": 55,
   "id": "9e99cdc4-1ec7-4609-9a11-5d2c4b31da90",
   "metadata": {},
   "outputs": [
    {
     "data": {
      "text/plain": [
       "11.0"
      ]
     },
     "execution_count": 55,
     "metadata": {},
     "output_type": "execute_result"
    }
   ],
   "source": [
    "sqrt\n"
   ]
  },
  {
   "cell_type": "code",
   "execution_count": 56,
   "id": "2664a9cd-0c9e-4ff1-92a9-a1e58a9f04c2",
   "metadata": {},
   "outputs": [
    {
     "data": {
      "text/plain": [
       "14.3"
      ]
     },
     "execution_count": 56,
     "metadata": {},
     "output_type": "execute_result"
    }
   ],
   "source": [
    "ab"
   ]
  },
  {
   "cell_type": "code",
   "execution_count": 57,
   "id": "bf66f25f-ddf4-48dd-b64f-163036d14e5f",
   "metadata": {},
   "outputs": [
    {
     "data": {
      "text/plain": [
       "1024"
      ]
     },
     "execution_count": 57,
     "metadata": {},
     "output_type": "execute_result"
    }
   ],
   "source": [
    "power"
   ]
  },
  {
   "cell_type": "code",
   "execution_count": 58,
   "id": "d9635da3-8b7b-462a-bb92-ddad20f38267",
   "metadata": {},
   "outputs": [
    {
     "data": {
      "text/plain": [
       "0.6931471805599453"
      ]
     },
     "execution_count": 58,
     "metadata": {},
     "output_type": "execute_result"
    }
   ],
   "source": [
    "log"
   ]
  },
  {
   "cell_type": "code",
   "execution_count": 59,
   "id": "6ceeaf32-9ac6-4d50-bb69-af543f4e5b3d",
   "metadata": {},
   "outputs": [
    {
     "data": {
      "text/plain": [
       "array([ 7.3890561 , 20.08553692])"
      ]
     },
     "execution_count": 59,
     "metadata": {},
     "output_type": "execute_result"
    }
   ],
   "source": [
    "exp"
   ]
  },
  {
   "cell_type": "code",
   "execution_count": 60,
   "id": "bc0c83f0-f616-406e-9202-f40bd41121d2",
   "metadata": {},
   "outputs": [
    {
     "data": {
      "text/plain": [
       "0.9018504072497467"
      ]
     },
     "execution_count": 60,
     "metadata": {},
     "output_type": "execute_result"
    }
   ],
   "source": [
    "max"
   ]
  },
  {
   "cell_type": "code",
   "execution_count": 61,
   "id": "3b54f2c0-5fe1-4c67-8641-dd3790fef7dd",
   "metadata": {},
   "outputs": [
    {
     "data": {
      "text/plain": [
       "0.10206849129147932"
      ]
     },
     "execution_count": 61,
     "metadata": {},
     "output_type": "execute_result"
    }
   ],
   "source": [
    "min\n"
   ]
  },
  {
   "cell_type": "code",
   "execution_count": 62,
   "id": "579bceb6-9e51-455b-b3db-9c2b660b6ad3",
   "metadata": {},
   "outputs": [
    {
     "data": {
      "text/plain": [
       "array([[[0.93397205, 0.86342815, 0.74150268, 0.57924449],\n",
       "        [0.28912547, 0.3077231 , 0.16326182, 0.75525178],\n",
       "        [0.84661239, 0.02672863, 0.09926426, 0.0583858 ]],\n",
       "\n",
       "       [[0.94702432, 0.1131226 , 0.11514526, 0.16870006],\n",
       "        [0.86566205, 0.52561076, 0.57730997, 0.7019841 ],\n",
       "        [0.61691742, 0.03580302, 0.60318288, 0.14377189]]])"
      ]
     },
     "execution_count": 62,
     "metadata": {},
     "output_type": "execute_result"
    }
   ],
   "source": [
    "data"
   ]
  },
  {
   "cell_type": "code",
   "execution_count": 63,
   "id": "66faf7af-8a11-498a-82c0-5cbf54a01bb0",
   "metadata": {},
   "outputs": [],
   "source": [
    "data[0][0][0] =700"
   ]
  },
  {
   "cell_type": "code",
   "execution_count": 64,
   "id": "82398720-10ba-4d46-85cf-1262359b12a4",
   "metadata": {},
   "outputs": [
    {
     "data": {
      "text/plain": [
       "array([[[7.00000000e+02, 8.63428148e-01, 7.41502677e-01, 5.79244488e-01],\n",
       "        [2.89125470e-01, 3.07723095e-01, 1.63261816e-01, 7.55251782e-01],\n",
       "        [8.46612395e-01, 2.67286299e-02, 9.92642584e-02, 5.83858049e-02]],\n",
       "\n",
       "       [[9.47024325e-01, 1.13122600e-01, 1.15145256e-01, 1.68700063e-01],\n",
       "        [8.65662048e-01, 5.25610762e-01, 5.77309970e-01, 7.01984098e-01],\n",
       "        [6.16917423e-01, 3.58030185e-02, 6.03182885e-01, 1.43771886e-01]]])"
      ]
     },
     "execution_count": 64,
     "metadata": {},
     "output_type": "execute_result"
    }
   ],
   "source": [
    "data"
   ]
  },
  {
   "cell_type": "code",
   "execution_count": 65,
   "id": "2edc7ad3-abf1-4bdc-8243-233e100d407c",
   "metadata": {},
   "outputs": [],
   "source": [
    "data.sort()"
   ]
  },
  {
   "cell_type": "code",
   "execution_count": 66,
   "id": "3a87a304-e45b-4285-a904-1e0399f0fa92",
   "metadata": {},
   "outputs": [
    {
     "data": {
      "text/plain": [
       "array([[[5.79244488e-01, 7.41502677e-01, 8.63428148e-01, 7.00000000e+02],\n",
       "        [1.63261816e-01, 2.89125470e-01, 3.07723095e-01, 7.55251782e-01],\n",
       "        [2.67286299e-02, 5.83858049e-02, 9.92642584e-02, 8.46612395e-01]],\n",
       "\n",
       "       [[1.13122600e-01, 1.15145256e-01, 1.68700063e-01, 9.47024325e-01],\n",
       "        [5.25610762e-01, 5.77309970e-01, 7.01984098e-01, 8.65662048e-01],\n",
       "        [3.58030185e-02, 1.43771886e-01, 6.03182885e-01, 6.16917423e-01]]])"
      ]
     },
     "execution_count": 66,
     "metadata": {},
     "output_type": "execute_result"
    }
   ],
   "source": [
    "data"
   ]
  },
  {
   "cell_type": "code",
   "execution_count": 67,
   "id": "8993bc38-49f3-4bab-bd30-90bc437d0e51",
   "metadata": {},
   "outputs": [
    {
     "name": "stdout",
     "output_type": "stream",
     "text": [
      "(2, 3, 4)\n"
     ]
    }
   ],
   "source": [
    "print(data.shape)"
   ]
  },
  {
   "cell_type": "code",
   "execution_count": 68,
   "id": "738c2477-a7cb-437e-b4f8-fbb07c2fd01d",
   "metadata": {},
   "outputs": [],
   "source": [
    "data = data.reshape (2,2,-1) # we wrote -1 cz we want the number of column to be random ... it'll select automatically"
   ]
  },
  {
   "cell_type": "code",
   "execution_count": 69,
   "id": "b251ed2a-9814-45c0-abab-3b6771b4c60e",
   "metadata": {},
   "outputs": [
    {
     "data": {
      "text/plain": [
       "array([[[5.79244488e-01, 7.41502677e-01, 8.63428148e-01, 7.00000000e+02,\n",
       "         1.63261816e-01, 2.89125470e-01],\n",
       "        [3.07723095e-01, 7.55251782e-01, 2.67286299e-02, 5.83858049e-02,\n",
       "         9.92642584e-02, 8.46612395e-01]],\n",
       "\n",
       "       [[1.13122600e-01, 1.15145256e-01, 1.68700063e-01, 9.47024325e-01,\n",
       "         5.25610762e-01, 5.77309970e-01],\n",
       "        [7.01984098e-01, 8.65662048e-01, 3.58030185e-02, 1.43771886e-01,\n",
       "         6.03182885e-01, 6.16917423e-01]]])"
      ]
     },
     "execution_count": 69,
     "metadata": {},
     "output_type": "execute_result"
    }
   ],
   "source": [
    "data"
   ]
  },
  {
   "cell_type": "code",
   "execution_count": 70,
   "id": "c82c4b7b-55a5-4316-aed9-760381783792",
   "metadata": {},
   "outputs": [
    {
     "data": {
      "text/plain": [
       "(2, 2, 6)"
      ]
     },
     "execution_count": 70,
     "metadata": {},
     "output_type": "execute_result"
    }
   ],
   "source": [
    "data.shape"
   ]
  },
  {
   "cell_type": "code",
   "execution_count": 71,
   "id": "900defa6-48ed-4852-9b27-6d296445e14d",
   "metadata": {},
   "outputs": [],
   "source": [
    "zeroes = np.zeros(10)"
   ]
  },
  {
   "cell_type": "code",
   "execution_count": 72,
   "id": "f90ce4a4-c3f4-4953-aab8-ae83bb9f0d61",
   "metadata": {},
   "outputs": [
    {
     "data": {
      "text/plain": [
       "array([0., 0., 0., 0., 0., 0., 0., 0., 0., 0.])"
      ]
     },
     "execution_count": 72,
     "metadata": {},
     "output_type": "execute_result"
    }
   ],
   "source": [
    "zeroes"
   ]
  },
  {
   "cell_type": "code",
   "execution_count": 73,
   "id": "99a27605-7df9-4652-a9d1-ccefab57a7cc",
   "metadata": {},
   "outputs": [],
   "source": [
    "zero_app = np.append ( zeroes , [3,4,5])"
   ]
  },
  {
   "cell_type": "code",
   "execution_count": 74,
   "id": "53ed7d00-83bd-4380-bf03-04ad84a10a98",
   "metadata": {},
   "outputs": [
    {
     "data": {
      "text/plain": [
       "array([0., 0., 0., 0., 0., 0., 0., 0., 0., 0., 3., 4., 5.])"
      ]
     },
     "execution_count": 74,
     "metadata": {},
     "output_type": "execute_result"
    }
   ],
   "source": [
    "zero_app"
   ]
  },
  {
   "cell_type": "raw",
   "id": "d27e0d0d-34c8-4311-8b69-e3196b8b6d63",
   "metadata": {},
   "source": [
    "zeroes = np.insert( zeroes , 2,1) # it'll add 1 at index 2 "
   ]
  },
  {
   "cell_type": "code",
   "execution_count": 75,
   "id": "78a54980-f370-459a-9e60-195fbeb9a2dc",
   "metadata": {},
   "outputs": [
    {
     "data": {
      "text/plain": [
       "array([0., 0., 0., 0., 0., 0., 0., 0., 0., 0.])"
      ]
     },
     "execution_count": 75,
     "metadata": {},
     "output_type": "execute_result"
    }
   ],
   "source": [
    "zeroes"
   ]
  },
  {
   "cell_type": "code",
   "execution_count": null,
   "id": "694c1773-b8e4-481c-875c-e6a69bd8b0a6",
   "metadata": {},
   "outputs": [],
   "source": [
    "# **delete** "
   ]
  }
 ],
 "metadata": {
  "kernelspec": {
   "display_name": "Python 3 (ipykernel)",
   "language": "python",
   "name": "python3"
  },
  "language_info": {
   "codemirror_mode": {
    "name": "ipython",
    "version": 3
   },
   "file_extension": ".py",
   "mimetype": "text/x-python",
   "name": "python",
   "nbconvert_exporter": "python",
   "pygments_lexer": "ipython3",
   "version": "3.12.9"
  }
 },
 "nbformat": 4,
 "nbformat_minor": 5
}
