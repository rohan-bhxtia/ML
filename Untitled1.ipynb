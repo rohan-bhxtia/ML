{
 "cells": [
  {
   "cell_type": "markdown",
   "id": "37ce8368-5629-45a8-b14b-253bc284d74d",
   "metadata": {},
   "source": [
    "# _**CREATE**_"
   ]
  },
  {
   "cell_type": "code",
   "execution_count": 1,
   "id": "e9a16cb1-e29a-458b-b5a1-e720d42107b1",
   "metadata": {},
   "outputs": [],
   "source": [
    "import numpy as np"
   ]
  },
  {
   "cell_type": "code",
   "execution_count": 2,
   "id": "319ea6e2-c9f4-4555-b89e-dcc51f09e7b9",
   "metadata": {},
   "outputs": [],
   "source": [
    "data = np.random.rand(2,3,4,)"
   ]
  },
  {
   "cell_type": "code",
   "execution_count": 3,
   "id": "92b25ef8-ae96-4ae9-8975-8197d526f327",
   "metadata": {},
   "outputs": [
    {
     "data": {
      "text/plain": [
       "array([[[0.71532426, 0.89320627, 0.95243263, 0.32936078],\n",
       "        [0.57914075, 0.83807607, 0.46501468, 0.82204949],\n",
       "        [0.58774253, 0.39276579, 0.99609958, 0.01870029]],\n",
       "\n",
       "       [[0.72379409, 0.92749095, 0.67984765, 0.6153395 ],\n",
       "        [0.54490895, 0.24563943, 0.7405502 , 0.99537626],\n",
       "        [0.20488291, 0.186883  , 0.40543301, 0.53319103]]])"
      ]
     },
     "execution_count": 3,
     "metadata": {},
     "output_type": "execute_result"
    }
   ],
   "source": [
    "data\n"
   ]
  },
  {
   "cell_type": "code",
   "execution_count": 4,
   "id": "0c923f40-abaa-45b5-903a-f21034cd47f2",
   "metadata": {},
   "outputs": [],
   "source": [
    "zeroes = np.zeros((2,3,4))"
   ]
  },
  {
   "cell_type": "code",
   "execution_count": 5,
   "id": "1ba8fc17-f415-4ebf-ac5c-b9f3ac60cab8",
   "metadata": {},
   "outputs": [
    {
     "data": {
      "text/plain": [
       "array([[[0., 0., 0., 0.],\n",
       "        [0., 0., 0., 0.],\n",
       "        [0., 0., 0., 0.]],\n",
       "\n",
       "       [[0., 0., 0., 0.],\n",
       "        [0., 0., 0., 0.],\n",
       "        [0., 0., 0., 0.]]])"
      ]
     },
     "execution_count": 5,
     "metadata": {},
     "output_type": "execute_result"
    }
   ],
   "source": [
    "zeroes\n"
   ]
  },
  {
   "cell_type": "code",
   "execution_count": 6,
   "id": "62c7d259-bb9b-4ed9-bbf1-fd3709050b7c",
   "metadata": {},
   "outputs": [],
   "source": [
    "full = np.full ((2,3,4),7)"
   ]
  },
  {
   "cell_type": "markdown",
   "id": "db198656-c2e4-4b7e-94e4-05fc9fb15683",
   "metadata": {},
   "source": [
    "full"
   ]
  },
  {
   "cell_type": "code",
   "execution_count": 7,
   "id": "e76a61a6-fb40-4b05-8005-2fa9fade90ce",
   "metadata": {},
   "outputs": [],
   "source": [
    "ones = np.ones((2,3,4))"
   ]
  },
  {
   "cell_type": "code",
   "execution_count": 8,
   "id": "0e7a9446-9cd6-4339-a89d-2f89b6ac8f5f",
   "metadata": {},
   "outputs": [
    {
     "data": {
      "text/plain": [
       "array([[[1., 1., 1., 1.],\n",
       "        [1., 1., 1., 1.],\n",
       "        [1., 1., 1., 1.]],\n",
       "\n",
       "       [[1., 1., 1., 1.],\n",
       "        [1., 1., 1., 1.],\n",
       "        [1., 1., 1., 1.]]])"
      ]
     },
     "execution_count": 8,
     "metadata": {},
     "output_type": "execute_result"
    }
   ],
   "source": [
    "ones"
   ]
  },
  {
   "cell_type": "markdown",
   "id": "7f7a36ca-7ddf-4236-8398-12653d6aaf75",
   "metadata": {},
   "source": [
    "### _creating array_ "
   ]
  },
  {
   "cell_type": "code",
   "execution_count": 10,
   "id": "96ebd03a-f957-41e0-9fe5-aef11192c18f",
   "metadata": {},
   "outputs": [],
   "source": [
    "array = np.array ([[1,2,3,4],[5,6,7,8],[9,10,11,12]])"
   ]
  },
  {
   "cell_type": "code",
   "execution_count": 11,
   "id": "b4401284-4cc8-450c-b76b-cff1c0dfddab",
   "metadata": {},
   "outputs": [
    {
     "data": {
      "text/plain": [
       "array([[ 1,  2,  3,  4],\n",
       "       [ 5,  6,  7,  8],\n",
       "       [ 9, 10, 11, 12]])"
      ]
     },
     "execution_count": 11,
     "metadata": {},
     "output_type": "execute_result"
    }
   ],
   "source": [
    "array"
   ]
  },
  {
   "cell_type": "markdown",
   "id": "697e8f27-fd43-48c8-b7cc-0d9fb9856cfe",
   "metadata": {},
   "source": [
    "# _**READ**_ "
   ]
  },
  {
   "cell_type": "code",
   "execution_count": 16,
   "id": "2c8752ed-3a40-4fba-9c83-1000a4aaf4c7",
   "metadata": {},
   "outputs": [],
   "source": [
    "#ATTRIBUTES "
   ]
  },
  {
   "cell_type": "code",
   "execution_count": 17,
   "id": "62a729d8-b2d3-4342-8d97-c62d7b8f34c4",
   "metadata": {},
   "outputs": [],
   "source": [
    "shape = data.shape"
   ]
  },
  {
   "cell_type": "code",
   "execution_count": 18,
   "id": "6ed9b5a3-876d-40fd-a2a4-01e2f152fa43",
   "metadata": {},
   "outputs": [],
   "source": [
    "size = data.size"
   ]
  },
  {
   "cell_type": "code",
   "execution_count": 20,
   "id": "b98ea54c-0d31-4e03-a91a-ee8761880c33",
   "metadata": {},
   "outputs": [],
   "source": [
    "type = data.dtype"
   ]
  },
  {
   "cell_type": "code",
   "execution_count": 21,
   "id": "9f21531f-d97e-48ce-9c83-ad15a4f85c33",
   "metadata": {},
   "outputs": [
    {
     "data": {
      "text/plain": [
       "(2, 3, 4)"
      ]
     },
     "execution_count": 21,
     "metadata": {},
     "output_type": "execute_result"
    }
   ],
   "source": [
    "shape "
   ]
  },
  {
   "cell_type": "code",
   "execution_count": 22,
   "id": "2e0f32e1-559d-46ef-8130-a263117d55b2",
   "metadata": {},
   "outputs": [
    {
     "data": {
      "text/plain": [
       "24"
      ]
     },
     "execution_count": 22,
     "metadata": {},
     "output_type": "execute_result"
    }
   ],
   "source": [
    "size"
   ]
  },
  {
   "cell_type": "code",
   "execution_count": 23,
   "id": "e22d8ece-5e90-4e9c-bbaf-e6f4152cf247",
   "metadata": {},
   "outputs": [
    {
     "data": {
      "text/plain": [
       "dtype('float64')"
      ]
     },
     "execution_count": 23,
     "metadata": {},
     "output_type": "execute_result"
    }
   ],
   "source": [
    "type "
   ]
  },
  {
   "cell_type": "code",
   "execution_count": null,
   "id": "bd4bb04e-6f25-46a5-81fc-2ed945b7ac76",
   "metadata": {},
   "outputs": [],
   "source": []
  }
 ],
 "metadata": {
  "kernelspec": {
   "display_name": "Python 3 (ipykernel)",
   "language": "python",
   "name": "python3"
  },
  "language_info": {
   "codemirror_mode": {
    "name": "ipython",
    "version": 3
   },
   "file_extension": ".py",
   "mimetype": "text/x-python",
   "name": "python",
   "nbconvert_exporter": "python",
   "pygments_lexer": "ipython3",
   "version": "3.12.9"
  }
 },
 "nbformat": 4,
 "nbformat_minor": 5
}
