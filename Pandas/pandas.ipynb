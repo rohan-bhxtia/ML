{
 "cells": [
  {
   "cell_type": "code",
   "execution_count": 1,
   "id": "3f6d300a-2943-4bfe-9eec-c9d48bc1163d",
   "metadata": {},
   "outputs": [
    {
     "name": "stdout",
     "output_type": "stream",
     "text": [
      "Defaulting to user installation because normal site-packages is not writeable\n",
      "Requirement already satisfied: pandas in /usr/lib64/python3.12/site-packages (2.2.1)\n",
      "Requirement already satisfied: numpy<2,>=1.26.0 in /usr/lib64/python3.12/site-packages (from pandas) (1.26.4)\n",
      "Requirement already satisfied: python-dateutil>=2.8.2 in /usr/lib/python3.12/site-packages (from pandas) (2.8.2)\n",
      "Requirement already satisfied: pytz>=2020.1 in /usr/lib/python3.12/site-packages (from pandas) (2025.1)\n",
      "Requirement already satisfied: six>=1.5 in /usr/lib/python3.12/site-packages (from python-dateutil>=2.8.2->pandas) (1.16.0)\n",
      "Note: you may need to restart the kernel to use updated packages.\n"
     ]
    }
   ],
   "source": [
    "pip install pandas"
   ]
  },
  {
   "cell_type": "code",
   "execution_count": 2,
   "id": "92fc68f1-dc62-49de-91a9-d28ffae18a2f",
   "metadata": {},
   "outputs": [],
   "source": [
    "import pandas as pd"
   ]
  },
  {
   "cell_type": "markdown",
   "id": "75866974-723c-452e-bcb6-d3147b953142",
   "metadata": {},
   "source": [
    "# 1. CREATE"
   ]
  },
  {
   "cell_type": "markdown",
   "id": "f614f875-4da3-4fef-b6c8-affec0e43e9e",
   "metadata": {},
   "source": [
    "### 1.1 Create from a CSV"
   ]
  },
  {
   "cell_type": "code",
   "execution_count": 3,
   "id": "2c105307-fd0b-4550-99f0-34ffc674f349",
   "metadata": {},
   "outputs": [],
   "source": [
    "df = pd.read_csv ('tested.csv')"
   ]
  },
  {
   "cell_type": "code",
   "execution_count": null,
   "id": "6fec40cb-7f97-485b-bcb1-b8ccf11e9836",
   "metadata": {},
   "outputs": [],
   "source": []
  }
 ],
 "metadata": {
  "kernelspec": {
   "display_name": "Python 3 (ipykernel)",
   "language": "python",
   "name": "python3"
  },
  "language_info": {
   "codemirror_mode": {
    "name": "ipython",
    "version": 3
   },
   "file_extension": ".py",
   "mimetype": "text/x-python",
   "name": "python",
   "nbconvert_exporter": "python",
   "pygments_lexer": "ipython3",
   "version": "3.12.9"
  }
 },
 "nbformat": 4,
 "nbformat_minor": 5
}
