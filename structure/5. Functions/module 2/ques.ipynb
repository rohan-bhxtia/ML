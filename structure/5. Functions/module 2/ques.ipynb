{
 "cells": [
  {
   "cell_type": "code",
   "execution_count": 6,
   "id": "c14563be",
   "metadata": {},
   "outputs": [
    {
     "name": "stdout",
     "output_type": "stream",
     "text": [
      "104.0\n"
     ]
    }
   ],
   "source": [
    "#You are given a temperature in Celsius. Your task is to convert it to Fahrenheit and return the result.\n",
    "\n",
    "\n",
    "def cel_to_far(temp):\n",
    "    output = (9/5 * temp) +32\n",
    "    return output    \n",
    "\n",
    "\n",
    "temp = int(input(\"enter temp in cel: \"))\n",
    "print(cel_to_far(temp))\n"
   ]
  },
  {
   "cell_type": "code",
   "execution_count": 11,
   "id": "2ef5198d",
   "metadata": {},
   "outputs": [
    {
     "name": "stdout",
     "output_type": "stream",
     "text": [
      "(area of rectangle is: 10)\n"
     ]
    }
   ],
   "source": [
    "#You are given the length and breadth of a rectangle. Your task is to compute and return the area of the rectangle.\n",
    "\n",
    "def area_of_rect(L , B):\n",
    "    area = L*B\n",
    "    return area\n",
    "\n",
    "length = int(input(\"enter length : \"))\n",
    "breadth = int(input(\"enter breadth : \"))\n",
    "\n",
    "print(f\"(area of rectangle is: {area_of_rect(length,breadth)})\")"
   ]
  },
  {
   "cell_type": "code",
   "execution_count": 19,
   "id": "720b6477",
   "metadata": {},
   "outputs": [
    {
     "name": "stdout",
     "output_type": "stream",
     "text": [
      "4\n"
     ]
    }
   ],
   "source": [
    "#You are given n, the total number of people, and capacity, \n",
    "# the maximum number of people the lift can carry at a time.\n",
    "#  All people want to go from the ground floor to the top floor. \n",
    "# Your task is to calculate the number of rounds the lift has to make to transport all the people to the top floor.\n",
    "\n",
    "\n",
    "\n",
    "def liftCarry (count , capacity):\n",
    "    trip = (count+capacity -1)//capacity   # // gives integer valye of answer coming after divide\n",
    "    return trip\n",
    "\n",
    "count_of_people = int(input(\"enter number of people: \"))\n",
    "capacity_of_lift = int(input(\"enter capacity of lift : \"))\n",
    "print (liftCarry(count_of_people,capacity_of_lift))\n"
   ]
  },
  {
   "cell_type": "code",
   "execution_count": 26,
   "id": "c189dc1f",
   "metadata": {},
   "outputs": [
    {
     "name": "stdout",
     "output_type": "stream",
     "text": [
      "55\n"
     ]
    }
   ],
   "source": [
    "# Write a Python function that calculates the sum of all elements in a given list of integers.\n",
    "\n",
    "\n",
    "lst =[1,2,3,4,5,6,7,8,9,10]\n",
    "\n",
    "def sum_of_list(lst):\n",
    "    sum =0\n",
    "    for i in lst:\n",
    "        sum += i\n",
    "    return sum\n",
    "    \n",
    "print(sum_of_list(lst))    \n",
    "\n"
   ]
  },
  {
   "cell_type": "code",
   "execution_count": null,
   "id": "ab2d6ba1",
   "metadata": {},
   "outputs": [],
   "source": [
    "# Write a Python function that finds and returns the largest element in a given list of integers."
   ]
  },
  {
   "cell_type": "code",
   "execution_count": null,
   "id": "dcf12c57",
   "metadata": {},
   "outputs": [],
   "source": []
  },
  {
   "cell_type": "code",
   "execution_count": null,
   "id": "0f630c69",
   "metadata": {},
   "outputs": [],
   "source": []
  },
  {
   "cell_type": "code",
   "execution_count": null,
   "id": "b05b2048",
   "metadata": {},
   "outputs": [],
   "source": []
  },
  {
   "cell_type": "code",
   "execution_count": null,
   "id": "1e8ee6ea",
   "metadata": {},
   "outputs": [],
   "source": []
  }
 ],
 "metadata": {
  "kernelspec": {
   "display_name": "base",
   "language": "python",
   "name": "python3"
  },
  "language_info": {
   "codemirror_mode": {
    "name": "ipython",
    "version": 3
   },
   "file_extension": ".py",
   "mimetype": "text/x-python",
   "name": "python",
   "nbconvert_exporter": "python",
   "pygments_lexer": "ipython3",
   "version": "3.11.5"
  }
 },
 "nbformat": 4,
 "nbformat_minor": 5
}
