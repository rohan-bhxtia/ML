{
 "cells": [
  {
   "cell_type": "code",
   "execution_count": 6,
   "id": "c14563be",
   "metadata": {},
   "outputs": [
    {
     "name": "stdout",
     "output_type": "stream",
     "text": [
      "104.0\n"
     ]
    }
   ],
   "source": [
    "#You are given a temperature in Celsius. Your task is to convert it to Fahrenheit and return the result.\n",
    "\n",
    "\n",
    "def cel_to_far(temp):\n",
    "    output = (9/5 * temp) +32\n",
    "    return output    \n",
    "\n",
    "\n",
    "temp = int(input(\"enter temp in cel: \"))\n",
    "print(cel_to_far(temp))\n"
   ]
  },
  {
   "cell_type": "code",
   "execution_count": 11,
   "id": "2ef5198d",
   "metadata": {},
   "outputs": [
    {
     "name": "stdout",
     "output_type": "stream",
     "text": [
      "(area of rectangle is: 10)\n"
     ]
    }
   ],
   "source": [
    "#You are given the length and breadth of a rectangle. Your task is to compute and return the area of the rectangle.\n",
    "\n",
    "def area_of_rect(L , B):\n",
    "    area = L*B\n",
    "    return area\n",
    "\n",
    "length = int(input(\"enter length : \"))\n",
    "breadth = int(input(\"enter breadth : \"))\n",
    "\n",
    "print(f\"(area of rectangle is: {area_of_rect(length,breadth)})\")"
   ]
  },
  {
   "cell_type": "code",
   "execution_count": 36,
   "id": "720b6477",
   "metadata": {},
   "outputs": [
    {
     "name": "stdout",
     "output_type": "stream",
     "text": [
      "4\n"
     ]
    }
   ],
   "source": [
    "#You are given n, the total number of people, and capacity, \n",
    "# the maximum number of people the lift can carry at a time.\n",
    "#  All people want to go from the ground floor to the top floor. \n",
    "# Your task is to calculate the number of rounds the lift has to make to transport all the people to the top floor.\n",
    "\n",
    "\n",
    "\n",
    "def liftCarry (count , capacity):\n",
    "    trip = (count+capacity -1)//capacity   # // gives integer value of answer coming after divide\n",
    "    return trip\n",
    "\n",
    "count_of_people = int(input(\"enter number of people: \"))\n",
    "capacity_of_lift = int(input(\"enter capacity of lift : \"))\n",
    "print (liftCarry(count_of_people,capacity_of_lift))\n"
   ]
  },
  {
   "cell_type": "code",
   "execution_count": 26,
   "id": "c189dc1f",
   "metadata": {},
   "outputs": [
    {
     "name": "stdout",
     "output_type": "stream",
     "text": [
      "55\n"
     ]
    }
   ],
   "source": [
    "# Write a Python function that calculates the sum of all elements in a given list of integers.\n",
    "\n",
    "\n",
    "lst =[1,2,3,4,5,6,7,8,9,10]\n",
    "\n",
    "def sum_of_list(lst):\n",
    "    sum =0\n",
    "    for i in lst:\n",
    "        sum += i\n",
    "    return sum\n",
    "    \n",
    "print(sum_of_list(lst))    \n",
    "\n"
   ]
  },
  {
   "cell_type": "code",
   "execution_count": 52,
   "id": "ab2d6ba1",
   "metadata": {},
   "outputs": [
    {
     "name": "stdout",
     "output_type": "stream",
     "text": [
      "[656]\n"
     ]
    }
   ],
   "source": [
    "# Write a Python function that finds and returns the largest element in a given list of integers.\n",
    "\n",
    "\n",
    "def biggest_value(lst):\n",
    "    biggest = [0]\n",
    "    for i in lst:\n",
    "        if biggest < [i]:\n",
    "            biggest =[i]\n",
    "    return biggest\n",
    "\n",
    "lst = [1,2,3,4,5,6,7,8,9,34,67,54,3,2,6,7,5,3,656,3,8,97,5,43]\n",
    "print(biggest_value(lst))\n",
    "\n",
    "\n",
    "\n"
   ]
  },
  {
   "cell_type": "code",
   "execution_count": 39,
   "id": "5ed8c054",
   "metadata": {},
   "outputs": [
    {
     "name": "stdout",
     "output_type": "stream",
     "text": [
      "[1, 2, 3, 4, 5, 7, 6, 8, 9]\n"
     ]
    }
   ],
   "source": [
    "#You are given a list of integers. Write a Python program that removes any duplicate elements from the list\n",
    "#and returns a new list with only unique elements. The order of elements in the list should be maintained.\n",
    "\n",
    "\n",
    "def duplicate_remove(lst):\n",
    "    seen =set()\n",
    "    unique =[]\n",
    "    for item in lst :\n",
    "        if item not in seen:\n",
    "            unique.append(item)\n",
    "            seen.add(item)\n",
    "    return unique\n",
    "\n",
    "lst = [1,2,3,4,5,2,3,5,4,7,6,8,9,2,3,4]\n",
    "\n",
    "print(duplicate_remove(lst))\n"
   ]
  },
  {
   "cell_type": "code",
   "execution_count": 46,
   "id": "e2f143fb",
   "metadata": {},
   "outputs": [
    {
     "name": "stdout",
     "output_type": "stream",
     "text": [
      "True\n"
     ]
    }
   ],
   "source": [
    "#You are given a list of integers. Write a Python program that checks \n",
    "# if all elements in the list are unique. If all elements are unique, return True; otherwise, return False.\n",
    "\n",
    "def unique(lst):\n",
    "    seen = set()\n",
    "    for items in lst:\n",
    "        if items in seen:\n",
    "            return False\n",
    "        seen.add(items)\n",
    "        \n",
    "    return True\n",
    "\n",
    "lst =[1,2,3,4,5,6,7,8,9]\n",
    "print(unique(lst))           \n"
   ]
  },
  {
   "cell_type": "code",
   "execution_count": null,
   "id": "2b0aa2d5",
   "metadata": {},
   "outputs": [
    {
     "name": "stdout",
     "output_type": "stream",
     "text": [
      "[9, 8, 7, 6, 5, 4, 3, 2, 1]\n"
     ]
    }
   ],
   "source": [
    "#You are given a list of integers. Write a Python program that reverses the list \n",
    "#without using slicing (lst[::-1]). The program should return the reversed list.\n",
    "\n",
    "\n",
    "\n",
    "def reverse(lst):\n",
    "    reverse = lst[::-1]\n",
    "    return reverse                                                 # used slicing\n",
    "\n",
    "lst = [1,2,3,4,5,6,7,8,9]\n",
    "print(reverse(lst)) "
   ]
  },
  {
   "cell_type": "code",
   "execution_count": null,
   "id": "f0e36710",
   "metadata": {},
   "outputs": [
    {
     "name": "stdout",
     "output_type": "stream",
     "text": [
      "[6, 5, 4, 3, 2, 1]\n"
     ]
    }
   ],
   "source": [
    "                                                     # without slicing  ( popping append method)\n",
    "\n",
    "\n",
    "def reverse(lst):\n",
    "    reverse_lst =[]\n",
    "    while lst:\n",
    "       removed =lst.pop()\n",
    "       new_lst = reverse_lst.append(removed)\n",
    "    return reverse_lst\n",
    "\n",
    "\n",
    "lst = [1,2,3,4,5,6]\n",
    "print(reverse(lst))"
   ]
  },
  {
   "cell_type": "code",
   "execution_count": 51,
   "id": "1c31c5a2",
   "metadata": {},
   "outputs": [
    {
     "name": "stdout",
     "output_type": "stream",
     "text": [
      "[5, 4, 3, 2, 1]\n"
     ]
    }
   ],
   "source": [
    "                                                     # without slicing ( simple reverse illusion)\n",
    "\n",
    "def reverse(lst):\n",
    "    reverse_lst =[]\n",
    "    for items in lst:\n",
    "        reverse_lst.insert(0,items)\n",
    "    return reverse_lst\n",
    "\n",
    "lst = [1,2,3,4,5]\n",
    "print(reverse(lst))    "
   ]
  },
  {
   "cell_type": "code",
   "execution_count": null,
   "id": "b25871ef",
   "metadata": {},
   "outputs": [],
   "source": []
  },
  {
   "cell_type": "code",
   "execution_count": null,
   "id": "6c680d6c",
   "metadata": {},
   "outputs": [],
   "source": []
  },
  {
   "cell_type": "code",
   "execution_count": null,
   "id": "4cbb8f72",
   "metadata": {},
   "outputs": [],
   "source": []
  },
  {
   "cell_type": "code",
   "execution_count": null,
   "id": "7922977e",
   "metadata": {},
   "outputs": [],
   "source": []
  },
  {
   "cell_type": "code",
   "execution_count": null,
   "id": "3a6ba023",
   "metadata": {},
   "outputs": [],
   "source": []
  },
  {
   "cell_type": "code",
   "execution_count": null,
   "id": "0f2b457c",
   "metadata": {},
   "outputs": [],
   "source": []
  },
  {
   "cell_type": "code",
   "execution_count": null,
   "id": "ac83aa63",
   "metadata": {},
   "outputs": [],
   "source": []
  },
  {
   "cell_type": "code",
   "execution_count": null,
   "id": "9e27d65b",
   "metadata": {},
   "outputs": [],
   "source": []
  },
  {
   "cell_type": "code",
   "execution_count": 30,
   "id": "dcf12c57",
   "metadata": {},
   "outputs": [],
   "source": [
    "#You are given a list of integers. Write a Python program that reverses the list without using slicing (lst[::-1]). \n",
    "#The program should return the reversed list.\n",
    "\n",
    "\n",
    "\n"
   ]
  },
  {
   "cell_type": "code",
   "execution_count": null,
   "id": "dcbaf2b7",
   "metadata": {},
   "outputs": [],
   "source": []
  },
  {
   "cell_type": "code",
   "execution_count": null,
   "id": "0f630c69",
   "metadata": {},
   "outputs": [],
   "source": []
  },
  {
   "cell_type": "code",
   "execution_count": null,
   "id": "b05b2048",
   "metadata": {},
   "outputs": [],
   "source": []
  },
  {
   "cell_type": "code",
   "execution_count": null,
   "id": "1e8ee6ea",
   "metadata": {},
   "outputs": [],
   "source": []
  }
 ],
 "metadata": {
  "kernelspec": {
   "display_name": "base",
   "language": "python",
   "name": "python3"
  },
  "language_info": {
   "codemirror_mode": {
    "name": "ipython",
    "version": 3
   },
   "file_extension": ".py",
   "mimetype": "text/x-python",
   "name": "python",
   "nbconvert_exporter": "python",
   "pygments_lexer": "ipython3",
   "version": "3.11.5"
  }
 },
 "nbformat": 4,
 "nbformat_minor": 5
}
