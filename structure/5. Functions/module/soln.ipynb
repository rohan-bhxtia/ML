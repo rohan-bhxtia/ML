{
 "cells": [
  {
   "cell_type": "code",
   "execution_count": null,
   "id": "a344af6f",
   "metadata": {},
   "outputs": [
    {
     "name": "stdout",
     "output_type": "stream",
     "text": [
      "[0, 1, 1, 2, 3, 5, 8, 13, 21, 34, 55]\n"
     ]
    }
   ],
   "source": [
    "#Define a recursive function to calculate the nth Fibonacci number using memoization. Test the function with different inputs\n",
    "\n",
    "\n",
    "lst = []\n",
    "a,b = (0,1)\n",
    "for i in range (11):\n",
    "    lst.append(a)\n",
    "    next = a+b\n",
    "    a = b\n",
    "    b = next \n",
    "    \n",
    "print(lst)    \n"
   ]
  },
  {
   "cell_type": "code",
   "execution_count": null,
   "id": "78fcbc3e",
   "metadata": {},
   "outputs": [
    {
     "name": "stdout",
     "output_type": "stream",
     "text": [
      "{2: 4}\n",
      "{3: 9}\n",
      "{4: 16}\n",
      "{5: 25}\n"
     ]
    }
   ],
   "source": [
    "#Define a function that takes two arguments, a and b, where b is a dictionary with a default value of an empty dictionary.\n",
    "#The function should add a new key-value pair to the dictionary and return it. Test the function with different inputs\n",
    "\n",
    "\n",
    "def new_fun( a , b = None):\n",
    "    if b is None:\n",
    "        b = {}  #this makes a new dictionary \n",
    "    b[a] = a**2\n",
    "    return b \n",
    "\n",
    "\n",
    "print(new_fun(2))\n",
    "print(new_fun(3))\n",
    "print(new_fun(4))\n",
    "print(new_fun(5))"
   ]
  },
  {
   "cell_type": "code",
   "execution_count": null,
   "metadata": {},
   "outputs": [
    {
     "name": "stdout",
     "output_type": "stream",
     "text": [
      "{'age': 108, 'score': 99.5, 'birth_year': 3102}\n"
     ]
    }
   ],
   "source": [
    "#Define a function that takes a variable number of keyword arguments \n",
    "#and returns a dictionary containing only those key-value pairs where the value is an integer.\n",
    "#Test the function with different inputs.\n",
    "\n",
    "\n",
    "\n",
    "def third_fun(**kwargs):\n",
    "    result = {}          #this makes results a dict,\n",
    "    for key, value in kwargs.items():\n",
    "        if type(value) in (int ,float):\n",
    "            result[key] = value\n",
    "    return result\n",
    "\n",
    "\n",
    "filtered = third_fun(name=\"Krishna\", age=108, score=99.5, isDevotee=True, birth_year=3102)\n",
    "\n",
    "\n",
    "print(filtered)\n"
   ]
  },
  {
   "cell_type": "code",
   "execution_count": 25,
   "id": "b8d6dcef",
   "metadata": {},
   "outputs": [
    {
     "name": "stdout",
     "output_type": "stream",
     "text": [
      "(simple squared list : [1, 4, 9, 16, 25])\n",
      "(squared+1 = [2, 5, 10, 17, 26])\n"
     ]
    }
   ],
   "source": [
    "#Define a function that takes another function as a callback and a list of integers. \n",
    "#The function should apply the callback to each integer in the list and\n",
    "#return a new list with the results. Test with different callback functions.\n",
    "\n",
    "lst=[1,2,3,4,5]\n",
    "def first_call_function(lst):\n",
    "    result =[]\n",
    "    for a in lst:\n",
    "       result.append(a**2)\n",
    "    return result\n",
    "\n",
    "\n",
    "print(f\"(simple squared list : {first_call_function(lst)})\")\n",
    "\n",
    "\n",
    "\n",
    "def second_call_function(lst):\n",
    "    result = first_call_function(lst)\n",
    "    result_withOneAdded =[x+1 for x in result] \n",
    "    return result_withOneAdded\n",
    "print(f\"(squared+1 = {second_call_function(lst)})\") \n",
    "\n",
    "\n"
   ]
  },
  {
   "cell_type": "code",
   "execution_count": null,
   "id": "781e00c5",
   "metadata": {},
   "outputs": [],
   "source": []
  },
  {
   "cell_type": "code",
   "execution_count": null,
   "id": "58df2b89",
   "metadata": {},
   "outputs": [],
   "source": []
  },
  {
   "cell_type": "code",
   "execution_count": null,
   "id": "169cc0da",
   "metadata": {},
   "outputs": [],
   "source": []
  },
  {
   "cell_type": "code",
   "execution_count": null,
   "id": "ed74e340",
   "metadata": {},
   "outputs": [],
   "source": []
  },
  {
   "cell_type": "code",
   "execution_count": null,
   "id": "0bac685e",
   "metadata": {},
   "outputs": [],
   "source": []
  },
  {
   "cell_type": "code",
   "execution_count": null,
   "id": "a8921b96",
   "metadata": {},
   "outputs": [],
   "source": []
  },
  {
   "cell_type": "code",
   "execution_count": null,
   "id": "ce66aa48",
   "metadata": {},
   "outputs": [],
   "source": []
  },
  {
   "cell_type": "code",
   "execution_count": null,
   "id": "a1a881ae",
   "metadata": {},
   "outputs": [],
   "source": []
  },
  {
   "cell_type": "code",
   "execution_count": null,
   "id": "14c3566f",
   "metadata": {},
   "outputs": [],
   "source": []
  },
  {
   "cell_type": "code",
   "execution_count": null,
   "metadata": {},
   "outputs": [],
   "source": []
  },
  {
   "cell_type": "code",
   "execution_count": null,
   "id": "16d5ea12",
   "metadata": {},
   "outputs": [],
   "source": []
  }
 ],
 "metadata": {
  "kernelspec": {
   "display_name": "base",
   "language": "python",
   "name": "python3"
  },
  "language_info": {
   "codemirror_mode": {
    "name": "ipython",
    "version": 3
   },
   "file_extension": ".py",
   "mimetype": "text/x-python",
   "name": "python",
   "nbconvert_exporter": "python",
   "pygments_lexer": "ipython3",
   "version": "3.11.5"
  }
 },
 "nbformat": 4,
 "nbformat_minor": 5
}
