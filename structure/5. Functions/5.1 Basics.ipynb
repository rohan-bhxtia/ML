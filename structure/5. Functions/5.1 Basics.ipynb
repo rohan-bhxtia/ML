{
 "cells": [
  {
   "cell_type": "code",
   "execution_count": 6,
   "id": "710a4b02",
   "metadata": {},
   "outputs": [
    {
     "name": "stdout",
     "output_type": "stream",
     "text": [
      "7 is odd\n"
     ]
    }
   ],
   "source": [
    " # odd even \n",
    "\n",
    "def odd_even(n):\n",
    "    if n%2==0:\n",
    "        print(f\"{n} is even\")\n",
    "    else:\n",
    "        print(f\"{n} is odd\")    \n",
    "        \n",
    "\n",
    "a = int(input(\"enter number : \"))\n",
    "(odd_even(a))   \n"
   ]
  },
  {
   "cell_type": "code",
   "execution_count": 8,
   "id": "bbba2703",
   "metadata": {},
   "outputs": [
    {
     "data": {
      "text/plain": [
       "104"
      ]
     },
     "execution_count": 8,
     "metadata": {},
     "output_type": "execute_result"
    }
   ],
   "source": [
    "     # add \n",
    "def add(a,b):\n",
    "    return a+b\n",
    "\n",
    "x = int(input(\"enter number : \"))\n",
    "y = int(input(\"enter number : \"))\n",
    "add(x,y)"
   ]
  },
  {
   "cell_type": "markdown",
   "id": "2e452327",
   "metadata": {},
   "source": [
    "### variable length :\n",
    "###  positional and keywords arguments\n",
    "\n",
    "## difference btwn pos and key arg is that we dont give value name/label in pos but we do have key/label and word/value in keyword arg \n"
   ]
  },
  {
   "cell_type": "code",
   "execution_count": null,
   "id": "1e8277ea",
   "metadata": {},
   "outputs": [],
   "source": [
    "### positional args\n",
    "\n",
    "def print_numbers (*Rohan):    # single star is used for positional arguments \n",
    "    for numbers in Rohan:\n",
    "        print(numbers)"
   ]
  },
  {
   "cell_type": "code",
   "execution_count": 11,
   "id": "327c032b",
   "metadata": {},
   "outputs": [
    {
     "name": "stdout",
     "output_type": "stream",
     "text": [
      "1\n",
      "2\n",
      "3\n",
      "4\n",
      "5\n",
      "6\n",
      "7\n",
      "8\n",
      "9\n",
      "jatt is spark\n"
     ]
    }
   ],
   "source": [
    "print_numbers(1,2,3,4,5,6,7,8,9,\"jatt is spark\")"
   ]
  },
  {
   "cell_type": "code",
   "execution_count": 19,
   "id": "dfee7966",
   "metadata": {},
   "outputs": [],
   "source": [
    "## keywords argument \n",
    "\n",
    "def print_details(*positionalargs,**keywordargs):\n",
    "    for val in positionalargs:\n",
    "        print(f\"positional args: {val}\")\n",
    "\n",
    "    for key,value in keywordargs.items():\n",
    "        print(f\"{key}:{value}\")\n"
   ]
  },
  {
   "cell_type": "code",
   "execution_count": 20,
   "id": "ac09b89a",
   "metadata": {},
   "outputs": [
    {
     "name": "stdout",
     "output_type": "stream",
     "text": [
      "positional args: 1\n",
      "positional args: 2\n",
      "positional args: 3\n",
      "positional args: 4\n",
      "positional args: 5\n",
      "name:rohan\n",
      "age:21\n",
      "country:india\n"
     ]
    }
   ],
   "source": [
    "print_details(1,2,3,4,5,name =\"rohan\",age =\"21\",country=\"india\")"
   ]
  },
  {
   "cell_type": "markdown",
   "id": "57832d51",
   "metadata": {},
   "source": [
    "# Return Statement"
   ]
  },
  {
   "cell_type": "code",
   "execution_count": null,
   "id": "6d3d022d",
   "metadata": {},
   "outputs": [
    {
     "data": {
      "text/plain": [
       "(10, 2)"
      ]
     },
     "execution_count": 22,
     "metadata": {},
     "output_type": "execute_result"
    }
   ],
   "source": [
    "def multiply (a,b):    # we can return multiple parameters in return()\n",
    "  return a*b , a\n",
    "\n",
    "multiply(2,5)"
   ]
  },
  {
   "cell_type": "code",
   "execution_count": null,
   "id": "6a4a8c03",
   "metadata": {},
   "outputs": [],
   "source": []
  }
 ],
 "metadata": {
  "kernelspec": {
   "display_name": ".venv",
   "language": "python",
   "name": "python3"
  },
  "language_info": {
   "codemirror_mode": {
    "name": "ipython",
    "version": 3
   },
   "file_extension": ".py",
   "mimetype": "text/x-python",
   "name": "python",
   "nbconvert_exporter": "python",
   "pygments_lexer": "ipython3",
   "version": "3.12.9"
  }
 },
 "nbformat": 4,
 "nbformat_minor": 5
}
