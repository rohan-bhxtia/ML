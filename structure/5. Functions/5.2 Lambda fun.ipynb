{
 "cells": [
  {
   "cell_type": "code",
   "execution_count": 3,
   "id": "e3192664",
   "metadata": {},
   "outputs": [],
   "source": [
    "def addition(a,b):\n",
    "    return (f\"addition of {a},{b} is {a+b}\")"
   ]
  },
  {
   "cell_type": "code",
   "execution_count": 4,
   "id": "44be8e70",
   "metadata": {},
   "outputs": [
    {
     "data": {
      "text/plain": [
       "'addition of 2,3 is 5'"
      ]
     },
     "execution_count": 4,
     "metadata": {},
     "output_type": "execute_result"
    }
   ],
   "source": [
    "x = int(input(\"enter x : \"))\n",
    "y = int(input(\"enter y : \"))\n",
    "addition(x,y)      "
   ]
  },
  {
   "cell_type": "code",
   "execution_count": 5,
   "id": "2562bd1f",
   "metadata": {},
   "outputs": [
    {
     "name": "stdout",
     "output_type": "stream",
     "text": [
      "11\n"
     ]
    }
   ],
   "source": [
    "addition = lambda a,b :a+b\n",
    "print(addition(5,6))"
   ]
  },
  {
   "cell_type": "markdown",
   "id": "322a6818",
   "metadata": {},
   "source": [
    "## 2nd example "
   ]
  },
  {
   "cell_type": "code",
   "execution_count": 6,
   "id": "be382787",
   "metadata": {},
   "outputs": [],
   "source": [
    "def even_number(a):\n",
    "    if x%2==0:\n",
    "        return (f\"{x} is even\")"
   ]
  },
  {
   "cell_type": "code",
   "execution_count": 7,
   "id": "20c6a115",
   "metadata": {},
   "outputs": [
    {
     "data": {
      "text/plain": [
       "'4 is even'"
      ]
     },
     "execution_count": 7,
     "metadata": {},
     "output_type": "execute_result"
    }
   ],
   "source": [
    "x = int(input(\"enter x : \"))\n",
    "even_number(x)"
   ]
  },
  {
   "cell_type": "code",
   "execution_count": 20,
   "id": "90074ca5",
   "metadata": {},
   "outputs": [
    {
     "name": "stdout",
     "output_type": "stream",
     "text": [
      "3 is odd\n"
     ]
    }
   ],
   "source": [
    "even = lambda x: f\"{x} is even\" if x%2==0 else f\"{x} is odd\"\n",
    "\n",
    "a=int(input(\" enter number a : \"))\n",
    "print(even(a))"
   ]
  },
  {
   "cell_type": "markdown",
   "id": "f3c0ca9f",
   "metadata": {},
   "source": [
    "## 3rd example"
   ]
  },
  {
   "cell_type": "markdown",
   "id": "d68c42ee",
   "metadata": {},
   "source": [
    "## map ()"
   ]
  },
  {
   "cell_type": "code",
   "execution_count": 21,
   "id": "d72010c9",
   "metadata": {},
   "outputs": [
    {
     "data": {
      "text/plain": [
       "9"
      ]
     },
     "execution_count": 21,
     "metadata": {},
     "output_type": "execute_result"
    }
   ],
   "source": [
    "def square(x):\n",
    "    return x**2\n",
    "\n",
    "square(3)"
   ]
  },
  {
   "cell_type": "code",
   "execution_count": 27,
   "id": "dc691595",
   "metadata": {},
   "outputs": [
    {
     "data": {
      "text/plain": [
       "[1, 4, 9, 16, 25, 36, 49, 64, 81, 100]"
      ]
     },
     "execution_count": 27,
     "metadata": {},
     "output_type": "execute_result"
    }
   ],
   "source": [
    "lst =[1,2,3,4,5,6,7,8,9,10]               # way one \n",
    "list(map(lambda x:x**2 , lst))"
   ]
  },
  {
   "cell_type": "code",
   "execution_count": 29,
   "id": "2c4d29d5",
   "metadata": {},
   "outputs": [
    {
     "name": "stdout",
     "output_type": "stream",
     "text": [
      "[1, 4, 9, 16, 25, 36, 49, 64, 81, 100]\n"
     ]
    }
   ],
   "source": [
    "print(list(map(lambda x:x**2,range(1,11))))    # way 2 \n"
   ]
  },
  {
   "cell_type": "code",
   "execution_count": null,
   "id": "408a4073",
   "metadata": {},
   "outputs": [],
   "source": []
  },
  {
   "cell_type": "code",
   "execution_count": null,
   "id": "32d00a8a",
   "metadata": {},
   "outputs": [],
   "source": []
  }
 ],
 "metadata": {
  "kernelspec": {
   "display_name": ".venv",
   "language": "python",
   "name": "python3"
  },
  "language_info": {
   "codemirror_mode": {
    "name": "ipython",
    "version": 3
   },
   "file_extension": ".py",
   "mimetype": "text/x-python",
   "name": "python",
   "nbconvert_exporter": "python",
   "pygments_lexer": "ipython3",
   "version": "3.12.9"
  }
 },
 "nbformat": 4,
 "nbformat_minor": 5
}
