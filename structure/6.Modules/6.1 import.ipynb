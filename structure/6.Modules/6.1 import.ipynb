{
 "cells": [
  {
   "cell_type": "code",
   "execution_count": null,
   "id": "81d0d8fe",
   "metadata": {},
   "outputs": [
    {
     "name": "stdout",
     "output_type": "stream",
     "text": [
      "4.0\n",
      "3.141592653589793\n"
     ]
    }
   ],
   "source": [
    "import math\n",
    "from math import pi,sqrt    #this is imp as we are pulling these out for forther code use \n",
    "print(sqrt(16))\n",
    "print(pi)"
   ]
  },
  {
   "cell_type": "code",
   "execution_count": 12,
   "id": "6ca747ea",
   "metadata": {},
   "outputs": [
    {
     "name": "stdout",
     "output_type": "stream",
     "text": [
      "[1 2 3 4]\n"
     ]
    }
   ],
   "source": [
    "import numpy as np         # this is how u import numpy\n",
    "array = np.array([1,2,3,4])\n",
    "print(array)"
   ]
  },
  {
   "cell_type": "code",
   "execution_count": 13,
   "id": "db31ac7d",
   "metadata": {},
   "outputs": [
    {
     "name": "stdout",
     "output_type": "stream",
     "text": [
      "2.0\n",
      "3.141592653589793\n"
     ]
    }
   ],
   "source": [
    "from math import *     # this star means that import all packages from maths , now i can do anything \n",
    "print(sqrt(4))\n",
    "print(pi)"
   ]
  },
  {
   "cell_type": "markdown",
   "id": "e7ada562",
   "metadata": {},
   "source": [
    "# packages importing "
   ]
  },
  {
   "cell_type": "code",
   "execution_count": 16,
   "id": "17ed6a26",
   "metadata": {},
   "outputs": [
    {
     "name": "stdout",
     "output_type": "stream",
     "text": [
      "7\n",
      "-1\n",
      "42\n",
      "0.5\n"
     ]
    }
   ],
   "source": [
    "# i've made a folder named packages in this very folder (6.importMod) ... this package folder consist of __init__.py \n",
    "# which is a special folder helps in initializing the packages \n",
    "\n",
    "# and other is fucntions.py folder .. which consist of 4 fucntions which ill be calling here ... \n",
    "# this helps in making code cleaner ... just import from there and all set .\n",
    "\n",
    "\n",
    "\n",
    "from packages.functions import *            # this star says that import everything from there ( i can even write by myself i.e import add)\n",
    "print(add(3,4))\n",
    "print(sub(5,6))\n",
    "print(mul(6,7))\n",
    "print(divide(1,2))"
   ]
  },
  {
   "cell_type": "code",
   "execution_count": null,
   "id": "0e3b87e8",
   "metadata": {},
   "outputs": [],
   "source": [
    "#......"
   ]
  },
  {
   "cell_type": "code",
   "execution_count": null,
   "id": "379ae678",
   "metadata": {},
   "outputs": [],
   "source": []
  },
  {
   "cell_type": "code",
   "execution_count": null,
   "id": "c93769c8",
   "metadata": {},
   "outputs": [],
   "source": []
  },
  {
   "cell_type": "code",
   "execution_count": null,
   "id": "77010ff0",
   "metadata": {},
   "outputs": [],
   "source": []
  }
 ],
 "metadata": {
  "kernelspec": {
   "display_name": "base",
   "language": "python",
   "name": "python3"
  },
  "language_info": {
   "codemirror_mode": {
    "name": "ipython",
    "version": 3
   },
   "file_extension": ".py",
   "mimetype": "text/x-python",
   "name": "python",
   "nbconvert_exporter": "python",
   "pygments_lexer": "ipython3",
   "version": "3.11.5"
  }
 },
 "nbformat": 4,
 "nbformat_minor": 5
}
