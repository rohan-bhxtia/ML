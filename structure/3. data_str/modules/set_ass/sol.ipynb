{
 "cells": [
  {
   "cell_type": "code",
   "execution_count": 1,
   "id": "a50219fc",
   "metadata": {},
   "outputs": [
    {
     "name": "stdout",
     "output_type": "stream",
     "text": [
      "{1, 2, 3, 4, 5, 6, 7, 8, 9, 10}\n"
     ]
    }
   ],
   "source": [
    "set1 ={1,2,3,4,5,6,7,8,9,10}\n",
    "print(set1)"
   ]
  },
  {
   "cell_type": "code",
   "execution_count": 2,
   "id": "227eb445",
   "metadata": {},
   "outputs": [
    {
     "name": "stdout",
     "output_type": "stream",
     "text": [
      "{1, 2, 3, 4, 5, 6, 7, 8, 9, 10, 11}\n",
      "{2, 3, 4, 5, 6, 7, 8, 9, 10, 11}\n"
     ]
    }
   ],
   "source": [
    "set1.add(11)\n",
    "print(set1)\n",
    "set1.remove(1)\n",
    "print(set1)\n"
   ]
  },
  {
   "cell_type": "code",
   "execution_count": 3,
   "id": "cdfbffea",
   "metadata": {},
   "outputs": [
    {
     "name": "stdout",
     "output_type": "stream",
     "text": [
      "{64, 1, 4, 36, 100, 9, 16, 49, 81, 25}\n"
     ]
    }
   ],
   "source": [
    "set1 ={1,2,3,4,5,6,7,8,9,10}\n",
    "sq_set ={x**2 for x in set1}\n",
    "print(sq_set)"
   ]
  },
  {
   "cell_type": "code",
   "execution_count": 4,
   "id": "9ff79d09",
   "metadata": {},
   "outputs": [
    {
     "name": "stdout",
     "output_type": "stream",
     "text": [
      "{2, 4, 6, 8, 10}\n"
     ]
    }
   ],
   "source": [
    "even_Set = { x for x in set1 if (x%2==0)}\n",
    "print(even_Set)"
   ]
  },
  {
   "cell_type": "code",
   "execution_count": 5,
   "id": "26dde4ff",
   "metadata": {},
   "outputs": [
    {
     "name": "stdout",
     "output_type": "stream",
     "text": [
      "frozenset({1, 2, 3, 4})\n"
     ]
    }
   ],
   "source": [
    "frozenset =frozenset([1,2,3,4])\n",
    "print(frozenset)"
   ]
  },
  {
   "cell_type": "code",
   "execution_count": 6,
   "id": "da54dc20",
   "metadata": {},
   "outputs": [
    {
     "name": "stdout",
     "output_type": "stream",
     "text": [
      "{1, 2, 3, 4, 5, 6, 7, 8, 9, 10}\n"
     ]
    }
   ],
   "source": [
    "print(set1)"
   ]
  },
  {
   "cell_type": "code",
   "execution_count": 7,
   "id": "02229568",
   "metadata": {},
   "outputs": [
    {
     "name": "stdout",
     "output_type": "stream",
     "text": [
      "[1, 2, 3, 4, 5, 6, 7, 8, 9, 10]\n"
     ]
    }
   ],
   "source": [
    "my_list = list(set1)\n",
    "print(my_list)"
   ]
  },
  {
   "cell_type": "code",
   "execution_count": 8,
   "id": "a0dbed06",
   "metadata": {},
   "outputs": [
    {
     "name": "stdout",
     "output_type": "stream",
     "text": [
      "[1, 2, 3, 4, 5, 6, 7, 8, 9, 10, 11]\n"
     ]
    }
   ],
   "source": [
    "my_list.append(11)\n",
    "print(my_list)"
   ]
  },
  {
   "cell_type": "code",
   "execution_count": 9,
   "id": "4492e62b",
   "metadata": {},
   "outputs": [
    {
     "name": "stdout",
     "output_type": "stream",
     "text": [
      "{1, 2, 3, 4, 5, 6, 7, 8, 9, 10, 11}\n"
     ]
    }
   ],
   "source": [
    "changed_set = set(my_list)\n",
    "print(changed_set)"
   ]
  },
  {
   "cell_type": "code",
   "execution_count": 10,
   "id": "8d5479e6",
   "metadata": {},
   "outputs": [
    {
     "name": "stdout",
     "output_type": "stream",
     "text": [
      "1\n",
      "2\n",
      "3\n",
      "4\n",
      "5\n",
      "6\n",
      "7\n",
      "8\n",
      "9\n",
      "10\n",
      "11\n"
     ]
    }
   ],
   "source": [
    "for elements in changed_set:\n",
    "    print(elements)"
   ]
  },
  {
   "cell_type": "code",
   "execution_count": 3,
   "id": "f179250b",
   "metadata": {},
   "outputs": [
    {
     "name": "stdout",
     "output_type": "stream",
     "text": [
      "{1, 2, 3, 4, 5}\n"
     ]
    }
   ],
   "source": [
    "fset = {1,2,3}\n",
    "sset = {3,4,5}\n",
    "fset.update(sset)\n",
    "print(fset)"
   ]
  },
  {
   "cell_type": "code",
   "execution_count": 4,
   "id": "6b031d85",
   "metadata": {},
   "outputs": [
    {
     "name": "stdout",
     "output_type": "stream",
     "text": [
      "{2, 3, 4, 5, 6, 7, 8, 34, 754, 56}\n",
      "{3, 4, 5, 6, 7, 8, 34, 754, 56}\n",
      "{4, 5, 6, 7, 8, 34, 754, 56}\n",
      "{5, 6, 7, 8, 34, 754, 56}\n",
      "{6, 7, 8, 34, 754, 56}\n",
      "{7, 8, 34, 754, 56}\n",
      "{8, 34, 754, 56}\n",
      "{34, 754, 56}\n",
      "{754, 56}\n",
      "{56}\n",
      "set()\n"
     ]
    }
   ],
   "source": [
    "set = {1,2,3,4,5,6,7,8,34,56,754}\n",
    "while set:\n",
    "    set.pop()\n",
    "    print(set)\n",
    "\n"
   ]
  },
  {
   "cell_type": "code",
   "execution_count": 6,
   "id": "07030af2",
   "metadata": {},
   "outputs": [
    {
     "name": "stdout",
     "output_type": "stream",
     "text": [
      "{(1, 2), (3, 4), (7, 8)}\n"
     ]
    }
   ],
   "source": [
    "bset = {(1,2),(3,4),(7,8)}\n",
    "print(bset)"
   ]
  },
  {
   "cell_type": "code",
   "execution_count": null,
   "id": "f92f9369",
   "metadata": {},
   "outputs": [],
   "source": []
  }
 ],
 "metadata": {
  "kernelspec": {
   "display_name": ".venv",
   "language": "python",
   "name": "python3"
  },
  "language_info": {
   "codemirror_mode": {
    "name": "ipython",
    "version": 3
   },
   "file_extension": ".py",
   "mimetype": "text/x-python",
   "name": "python",
   "nbconvert_exporter": "python",
   "pygments_lexer": "ipython3",
   "version": "3.12.9"
  }
 },
 "nbformat": 4,
 "nbformat_minor": 5
}
