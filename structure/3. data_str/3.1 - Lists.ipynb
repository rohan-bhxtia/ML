{
 "cells": [
  {
   "cell_type": "code",
   "execution_count": null,
   "id": "37613b3c",
   "metadata": {},
   "outputs": [],
   "source": []
  },
  {
   "cell_type": "markdown",
   "id": "5f715dfb",
   "metadata": {},
   "source": [
    "# Lists "
   ]
  },
  {
   "cell_type": "code",
   "execution_count": 1,
   "id": "e6818ff4",
   "metadata": {},
   "outputs": [
    {
     "name": "stdout",
     "output_type": "stream",
     "text": [
      "['apple', 'mango', 'orange', 'cherry', 'banana', 'guava']\n"
     ]
    }
   ],
   "source": [
    "fruits = [\"apple\",\"mango\",\"orange\",\"cherry\",\"banana\",\"guava\"]\n",
    "print(fruits)"
   ]
  },
  {
   "cell_type": "code",
   "execution_count": 2,
   "id": "35b2e967",
   "metadata": {},
   "outputs": [
    {
     "name": "stdout",
     "output_type": "stream",
     "text": [
      "['apple', 'mango', 'orange', 'cherry', 'banana', 'guava', 'watermelon']\n"
     ]
    }
   ],
   "source": [
    "fruits.append(\"watermelon\")\n",
    "print(fruits)\n"
   ]
  },
  {
   "cell_type": "code",
   "execution_count": 3,
   "id": "5d067b23",
   "metadata": {},
   "outputs": [
    {
     "name": "stdout",
     "output_type": "stream",
     "text": [
      "['apple', 'orange', 'cherry', 'banana', 'guava', 'watermelon']\n"
     ]
    }
   ],
   "source": [
    "fruits.remove(\"mango\")\n",
    "print(fruits)"
   ]
  },
  {
   "cell_type": "code",
   "execution_count": 4,
   "id": "55e19361",
   "metadata": {},
   "outputs": [
    {
     "name": "stdout",
     "output_type": "stream",
     "text": [
      "watermelon\n",
      "['apple', 'orange', 'cherry', 'banana', 'guava']\n"
     ]
    }
   ],
   "source": [
    "#popping \n",
    "popped = fruits.pop()\n",
    "print(popped)\n",
    "print(fruits)"
   ]
  },
  {
   "cell_type": "code",
   "execution_count": 2,
   "id": "89eaf6ea",
   "metadata": {},
   "outputs": [
    {
     "name": "stdout",
     "output_type": "stream",
     "text": [
      "['apple', 'mango', 'mango', 'orange', 'cherry', 'banana', 'guava']\n"
     ]
    }
   ],
   "source": [
    "fruits = [\"apple\",\"mango\",\"orange\",\"cherry\",\"banana\",\"guava\"]\n",
    "fruits.insert(2,\"mango\")\n",
    "print(fruits)"
   ]
  },
  {
   "cell_type": "code",
   "execution_count": 3,
   "id": "1de70f30-2dea-4937-a83c-7287e78a7637",
   "metadata": {},
   "outputs": [],
   "source": [
    "fruits.sort()\n",
    " "
   ]
  },
  {
   "cell_type": "code",
   "execution_count": 4,
   "id": "0f718bf5-db0f-44a7-b406-ded43cab0664",
   "metadata": {},
   "outputs": [
    {
     "data": {
      "text/plain": [
       "['apple', 'banana', 'cherry', 'guava', 'mango', 'mango', 'orange']"
      ]
     },
     "execution_count": 4,
     "metadata": {},
     "output_type": "execute_result"
    }
   ],
   "source": [
    "fruits"
   ]
  },
  {
   "cell_type": "code",
   "execution_count": 5,
   "id": "8967babe-3b00-4323-9704-c5d22cfa12fb",
   "metadata": {},
   "outputs": [
    {
     "name": "stdout",
     "output_type": "stream",
     "text": [
      "['orange', 'mango', 'mango', 'guava', 'cherry', 'banana', 'apple']\n"
     ]
    }
   ],
   "source": [
    "fruits.reverse()\n",
    "print(fruits)"
   ]
  },
  {
   "cell_type": "markdown",
   "id": "c12dd855-1fb3-492e-9ceb-3a370bae5818",
   "metadata": {},
   "source": [
    "# Slicing list"
   ]
  },
  {
   "cell_type": "code",
   "execution_count": 7,
   "id": "843baf06-9d8f-4619-b94f-70beb5cb0a24",
   "metadata": {},
   "outputs": [
    {
     "name": "stdout",
     "output_type": "stream",
     "text": [
      "[3, 4, 5]\n",
      "[6, 7, 9, 10]\n",
      "[1, 2, 3, 4, 5]\n",
      "[1, 3, 5, 7, 10]\n",
      "[10, 9, 7, 6, 5, 4, 3, 2, 1]\n"
     ]
    }
   ],
   "source": [
    " numbers =[1,2,3,4,5,6,7,9,10]\n",
    "print(numbers [2:5])\n",
    "print(numbers [5:])\n",
    "print(numbers [:5])\n",
    "print(numbers [::2])\n",
    "print(numbers [::-1])"
   ]
  },
  {
   "cell_type": "markdown",
   "id": "d4ed588f-cce0-497f-a8f0-b0afcf247f32",
   "metadata": {},
   "source": [
    "### iterate over list "
   ]
  },
  {
   "cell_type": "code",
   "execution_count": 10,
   "id": "4d7cf47f-2e9a-4223-9241-80406f16f4f0",
   "metadata": {},
   "outputs": [
    {
     "name": "stdout",
     "output_type": "stream",
     "text": [
      "1\n",
      "2\n",
      "3\n",
      "4\n",
      "5\n",
      "6\n",
      "7\n",
      "9\n",
      "10\n"
     ]
    }
   ],
   "source": [
    "for number in numbers :\n",
    "   print(number)"
   ]
  },
  {
   "cell_type": "markdown",
   "id": "246cc7ce-311d-4296-b4a7-277868e9a347",
   "metadata": {},
   "source": [
    "### iterate with index "
   ]
  },
  {
   "cell_type": "code",
   "execution_count": null,
   "id": "80383855-99d2-4473-9dcb-3e475094a2e1",
   "metadata": {},
   "outputs": [],
   "source": []
  },
  {
   "cell_type": "code",
   "execution_count": null,
   "id": "f467ea7b-c909-415e-a2a8-36e8f0a88cb5",
   "metadata": {},
   "outputs": [],
   "source": []
  },
  {
   "cell_type": "code",
   "execution_count": null,
   "id": "17468403-0152-4d5c-b559-be23928a3104",
   "metadata": {},
   "outputs": [],
   "source": []
  }
 ],
 "metadata": {
  "kernelspec": {
   "display_name": "Python 3 (ipykernel)",
   "language": "python",
   "name": "python3"
  },
  "language_info": {
   "codemirror_mode": {
    "name": "ipython",
    "version": 3
   },
   "file_extension": ".py",
   "mimetype": "text/x-python",
   "name": "python",
   "nbconvert_exporter": "python",
   "pygments_lexer": "ipython3",
   "version": "3.12.9"
  }
 },
 "nbformat": 4,
 "nbformat_minor": 5
}
