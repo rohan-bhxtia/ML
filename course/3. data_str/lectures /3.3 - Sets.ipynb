{
 "cells": [
  {
   "cell_type": "code",
   "execution_count": 1,
   "id": "8a2138fd",
   "metadata": {},
   "outputs": [
    {
     "name": "stdout",
     "output_type": "stream",
     "text": [
      "{2, 3, 4, 5, 7}\n"
     ]
    }
   ],
   "source": [
    "my_set ={2,3,5,7,5,4}\n",
    "print(my_set)"
   ]
  },
  {
   "cell_type": "code",
   "execution_count": 2,
   "id": "f5d4c52a",
   "metadata": {},
   "outputs": [
    {
     "name": "stdout",
     "output_type": "stream",
     "text": [
      "{2, 3, 4, 5, 7, 10}\n"
     ]
    }
   ],
   "source": [
    "my_set.add(10)\n",
    "print(my_set)"
   ]
  },
  {
   "cell_type": "code",
   "execution_count": 3,
   "id": "679d57c4",
   "metadata": {},
   "outputs": [
    {
     "name": "stdout",
     "output_type": "stream",
     "text": [
      "{1, 2, 6, 8, 9}\n"
     ]
    }
   ],
   "source": [
    "my_set ={1,2,3,6,8,9}\n",
    "my_set.remove(3)\n",
    "\n",
    "print(my_set)"
   ]
  },
  {
   "cell_type": "code",
   "execution_count": 4,
   "id": "264a006e",
   "metadata": {},
   "outputs": [
    {
     "name": "stdout",
     "output_type": "stream",
     "text": [
      "{1, 2, 6, 8, 9}\n"
     ]
    }
   ],
   "source": [
    "my_set.discard(11)   # this ensures that 11 wont be there and it just removes 11 and print other set \n",
    "print(my_set)    "
   ]
  },
  {
   "cell_type": "code",
   "execution_count": 6,
   "id": "3f4be716",
   "metadata": {},
   "outputs": [
    {
     "name": "stdout",
     "output_type": "stream",
     "text": [
      "{1, 2, 6, 8, 9}\n"
     ]
    }
   ],
   "source": [
    "print(my_set)"
   ]
  },
  {
   "cell_type": "code",
   "execution_count": 9,
   "id": "c62498c6",
   "metadata": {},
   "outputs": [
    {
     "name": "stdout",
     "output_type": "stream",
     "text": [
      "1\n",
      "{2, 6, 7, 8, 9}\n"
     ]
    }
   ],
   "source": [
    "#pop method\n",
    "removed_elements =my_set.pop()\n",
    "print(removed_elements)\n",
    "print(my_set)"
   ]
  },
  {
   "cell_type": "code",
   "execution_count": 11,
   "id": "80ec6af7",
   "metadata": {},
   "outputs": [
    {
     "name": "stdout",
     "output_type": "stream",
     "text": [
      "set()\n"
     ]
    }
   ],
   "source": [
    "#clear the set \n",
    "my_set.clear()\n",
    "print(my_set)"
   ]
  },
  {
   "cell_type": "code",
   "execution_count": 12,
   "id": "c21aa5e5",
   "metadata": {},
   "outputs": [
    {
     "name": "stdout",
     "output_type": "stream",
     "text": [
      "True\n",
      "False\n"
     ]
    }
   ],
   "source": [
    "#set membership test \n",
    "my_newSet ={1,2,3,4,5,6,7 }\n",
    "print(3 in my_newSet)\n",
    "print(10 in my_newSet)"
   ]
  },
  {
   "cell_type": "code",
   "execution_count": 24,
   "id": "27e4f358",
   "metadata": {},
   "outputs": [
    {
     "name": "stdout",
     "output_type": "stream",
     "text": [
      "{1, 2, 3, 4, 5, 6, 7, 8, 9}\n",
      "{4, 5, 6}\n",
      "{1, 2, 3}\n",
      "{1, 2, 3, 7, 8, 9}\n",
      "False\n",
      "False\n"
     ]
    }
   ],
   "source": [
    " #mathematical operations \n",
    "set1 ={1,2,3,4,5,6}\n",
    "set2 ={4,5,6,7,8,9}\n",
    "\n",
    "###union\n",
    "union =set1.union(set2)\n",
    "print(union)\n",
    "\n",
    "###intersection\n",
    "intersection = set1.intersection(set2)\n",
    "print(intersection)\n",
    "\n",
    "\n",
    "###difference \n",
    "diff = set1.difference(set2)  ##prints only set1 after differnece part \n",
    "print(diff)\n",
    "\n",
    "\n",
    "### symmetric difference \n",
    "sym_diff = set1.symmetric_difference(set2)   ## removes common part and prints both sets \n",
    "print(sym_diff)\n",
    "\n",
    "###subset check\n",
    "print(set1.issubset(set2))    ##checks if the set1 is subset of set2 (gives false cz its not)\n",
    "print(set1.issuperset(set2))  ##means set2 completely belongs to set1\n"
   ]
  },
  {
   "cell_type": "code",
   "execution_count": null,
   "id": "67e6eb9f",
   "metadata": {},
   "outputs": [
    {
     "name": "stdout",
     "output_type": "stream",
     "text": [
      "{'everyone', 'best', 'is', 'rohan', 'gonna', \"he's\", 'crush', 'and'}\n",
      "8 "
     ]
    }
   ],
   "source": [
    "## counting unique words in a text \n",
    "\n",
    "text = \" rohan is best and he's gonna crush everyone \"\n",
    "words = text.split()\n",
    "\n",
    "#converting list of words to set to get unique words \n",
    "\n",
    "unique_words = set(words)\n",
    "print(unique_words )\n",
    "print(len(unique_words))"
   ]
  },
  {
   "cell_type": "code",
   "execution_count": null,
   "id": "58c91755",
   "metadata": {},
   "outputs": [],
   "source": []
  },
  {
   "cell_type": "code",
   "execution_count": null,
   "id": "d4bf0f50",
   "metadata": {},
   "outputs": [],
   "source": []
  },
  {
   "cell_type": "code",
   "execution_count": null,
   "id": "f28b9390",
   "metadata": {},
   "outputs": [],
   "source": []
  },
  {
   "cell_type": "code",
   "execution_count": null,
   "id": "0238a133",
   "metadata": {},
   "outputs": [],
   "source": []
  },
  {
   "cell_type": "code",
   "execution_count": null,
   "id": "c223a025",
   "metadata": {},
   "outputs": [],
   "source": []
  },
  {
   "cell_type": "code",
   "execution_count": null,
   "id": "81eea0c0",
   "metadata": {},
   "outputs": [],
   "source": []
  }
 ],
 "metadata": {
  "kernelspec": {
   "display_name": ".venv",
   "language": "python",
   "name": "python3"
  },
  "language_info": {
   "codemirror_mode": {
    "name": "ipython",
    "version": 3
   },
   "file_extension": ".py",
   "mimetype": "text/x-python",
   "name": "python",
   "nbconvert_exporter": "python",
   "pygments_lexer": "ipython3",
   "version": "3.12.9"
  }
 },
 "nbformat": 4,
 "nbformat_minor": 5
}
