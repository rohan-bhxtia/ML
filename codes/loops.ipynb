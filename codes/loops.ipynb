{
 "cells": [
  {
   "cell_type": "markdown",
   "id": "f00f0450",
   "metadata": {},
   "source": [
    "# fOR LOOPS "
   ]
  },
  {
   "cell_type": "code",
   "execution_count": 6,
   "id": "5379636e",
   "metadata": {},
   "outputs": [
    {
     "name": "stdout",
     "output_type": "stream",
     "text": [
      "0\n",
      "1\n",
      "2\n",
      "3\n",
      "4\n"
     ]
    }
   ],
   "source": [
    "for i in range(5):\n",
    "    print(i)"
   ]
  },
  {
   "cell_type": "code",
   "execution_count": null,
   "id": "c7e0871b",
   "metadata": {},
   "outputs": [
    {
     "name": "stdout",
     "output_type": "stream",
     "text": [
      "1\n",
      "5\n",
      "9\n"
     ]
    }
   ],
   "source": [
    "\n",
    "for i in range(1,10,2):\n",
    "    print(i)"
   ]
  },
  {
   "cell_type": "code",
   "execution_count": 23,
   "id": "e7c568b2",
   "metadata": {},
   "outputs": [
    {
     "name": "stdout",
     "output_type": "stream",
     "text": [
      "r\n",
      "o\n",
      "h\n",
      "a\n",
      "n\n",
      " \n",
      "i\n",
      "s\n",
      " \n",
      "b\n",
      "e\n",
      "s\n",
      "t\n"
     ]
    }
   ],
   "source": [
    "str = 'rohan is best'\n",
    "for i in str:\n",
    "    print(i)"
   ]
  },
  {
   "cell_type": "markdown",
   "id": "eb2d2006",
   "metadata": {},
   "source": [
    " # calculate the sum of first n natural numbers "
   ]
  },
  {
   "cell_type": "code",
   "execution_count": 27,
   "id": "66694732",
   "metadata": {},
   "outputs": [
    {
     "name": "stdout",
     "output_type": "stream",
     "text": [
      "Sum is:  15\n"
     ]
    }
   ],
   "source": [
    "a = int(input(\"Enter a number: \"))\n",
    "sum = 0\n",
    "for i in range (a+1):\n",
    "    sum += i\n",
    "print(\"Sum is: \", sum)"
   ]
  },
  {
   "cell_type": "markdown",
   "id": "b664315a",
   "metadata": {},
   "source": [
    "# prime numbers btwn 1-100"
   ]
  },
  {
   "cell_type": "code",
   "execution_count": 29,
   "id": "ee6fc6e4",
   "metadata": {},
   "outputs": [
    {
     "name": "stdout",
     "output_type": "stream",
     "text": [
      "2\n",
      "3\n",
      "5\n",
      "7\n",
      "11\n",
      "13\n",
      "17\n",
      "19\n",
      "23\n",
      "29\n",
      "31\n",
      "37\n",
      "41\n",
      "43\n",
      "47\n",
      "53\n",
      "59\n",
      "61\n",
      "67\n",
      "71\n",
      "73\n",
      "79\n",
      "83\n",
      "89\n",
      "97\n"
     ]
    }
   ],
   "source": [
    " for i in range(1,101):\n",
    "    if i>1:\n",
    "      for j in range ( 2,i):\n",
    "        if (i%j) == 0:\n",
    "            break\n",
    "      else:\n",
    "        print(i)"
   ]
  },
  {
   "cell_type": "markdown",
   "id": "9625fdec",
   "metadata": {},
   "source": [
    "### loops are really powerful bruh !!!!!"
   ]
  }
 ],
 "metadata": {
  "kernelspec": {
   "display_name": "base",
   "language": "python",
   "name": "python3"
  },
  "language_info": {
   "codemirror_mode": {
    "name": "ipython",
    "version": 3
   },
   "file_extension": ".py",
   "mimetype": "text/x-python",
   "name": "python",
   "nbconvert_exporter": "python",
   "pygments_lexer": "ipython3",
   "version": "3.11.5"
  }
 },
 "nbformat": 4,
 "nbformat_minor": 5
}
