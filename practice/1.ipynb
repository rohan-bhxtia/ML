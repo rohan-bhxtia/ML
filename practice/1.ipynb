{
 "cells": [
  {
   "cell_type": "code",
   "execution_count": null,
   "id": "51d8a83e",
   "metadata": {},
   "outputs": [],
   "source": []
  },
  {
   "cell_type": "code",
   "execution_count": 1,
   "id": "d4752d6a",
   "metadata": {},
   "outputs": [
    {
     "name": "stdout",
     "output_type": "stream",
     "text": [
      "hello world\n"
     ]
    }
   ],
   "source": [
    "print(\"hello world\")"
   ]
  },
  {
   "cell_type": "code",
   "execution_count": 2,
   "id": "4834a173",
   "metadata": {},
   "outputs": [
    {
     "name": "stdout",
     "output_type": "stream",
     "text": [
      "number is +ve\n"
     ]
    }
   ],
   "source": [
    "a = int(input(\"enter ur number :\"))\n",
    "if(a>0):\n",
    "    print(\"number is +ve\")\n",
    "elif(a<0):\n",
    "    print(\"-ve number\")    \n",
    "else:\n",
    "    print(\"number is 0\")    \n"
   ]
  },
  {
   "cell_type": "code",
   "execution_count": 3,
   "id": "71c524d7",
   "metadata": {},
   "outputs": [
    {
     "name": "stdout",
     "output_type": "stream",
     "text": [
      "+ve and even\n"
     ]
    }
   ],
   "source": [
    "a = int(input(\"enter number a :\"))\n",
    "if(a>0):\n",
    "    if(a%2==0):\n",
    "        print(\"+ve and even\")\n",
    "    else:\n",
    "        print(\"+ve and odd\")\n",
    "elif(a<0):\n",
    "    print( \"-ve\") \n",
    "else:\n",
    "    print(\"number is 0\")\n",
    "                   "
   ]
  },
  {
   "cell_type": "code",
   "execution_count": 4,
   "id": "0f7e2ef6",
   "metadata": {},
   "outputs": [
    {
     "name": "stdout",
     "output_type": "stream",
     "text": [
      "1\n",
      "2\n",
      "3\n",
      "4\n",
      "5\n",
      "6\n",
      "7\n",
      "8\n",
      "9\n",
      "10\n"
     ]
    }
   ],
   "source": [
    "for i in range(1,11):\n",
    "    print (i)"
   ]
  },
  {
   "cell_type": "code",
   "execution_count": 2,
   "id": "3a3476d5",
   "metadata": {},
   "outputs": [
    {
     "name": "stdout",
     "output_type": "stream",
     "text": [
      "1\n",
      "2\n",
      "3\n",
      "4\n",
      "5\n",
      "6\n",
      "7\n",
      "8\n",
      "9\n",
      "10\n"
     ]
    }
   ],
   "source": [
    "i =1 \n",
    "while i<=10:\n",
    "    print (i)\n",
    "    i+=1\n"
   ]
  },
  {
   "cell_type": "code",
   "execution_count": null,
   "id": "75894bd1",
   "metadata": {},
   "outputs": [],
   "source": []
  },
  {
   "cell_type": "code",
   "execution_count": null,
   "id": "38eecc7e",
   "metadata": {},
   "outputs": [
    {
     "name": "stdout",
     "output_type": "stream",
     "text": [
      "* * * * * \n",
      "* * * * * \n",
      "* * * * * \n",
      "* * * * * \n",
      "* * * * * \n"
     ]
    }
   ],
   "source": [
    "\n",
    "for i in range(5):\n",
    "     for j in range(5):\n",
    "         print(\"*\", end=\" \")\n",
    "     print()\n",
    "     #"
   ]
  },
  {
   "cell_type": "code",
   "execution_count": 4,
   "id": "5457e7ed",
   "metadata": {},
   "outputs": [
    {
     "name": "stdout",
     "output_type": "stream",
     "text": [
      "invalid literal for int() with base 10: 'ab'\n"
     ]
    }
   ],
   "source": [
    "try:\n",
    "    num =int(input(\"enter num: \"))\n",
    "    result=20/num\n",
    "except Exception as ex:\n",
    "    print(ex)\n",
    "  \n"
   ]
  },
  {
   "cell_type": "code",
   "execution_count": null,
   "id": "17c9a1fd",
   "metadata": {},
   "outputs": [],
   "source": []
  }
 ],
 "metadata": {
  "kernelspec": {
   "display_name": "Python 3",
   "language": "python",
   "name": "python3"
  },
  "language_info": {
   "codemirror_mode": {
    "name": "ipython",
    "version": 3
   },
   "file_extension": ".py",
   "mimetype": "text/x-python",
   "name": "python",
   "nbconvert_exporter": "python",
   "pygments_lexer": "ipython3",
   "version": "3.12.11"
  }
 },
 "nbformat": 4,
 "nbformat_minor": 5
}
